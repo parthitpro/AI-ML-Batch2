{
  "nbformat": 4,
  "nbformat_minor": 0,
  "metadata": {
    "colab": {
      "name": "assiement1 letsupgrade",
      "provenance": [],
      "collapsed_sections": []
    },
    "kernelspec": {
      "name": "python3",
      "display_name": "Python 3"
    }
  },
  "cells": [
    {
      "cell_type": "code",
      "metadata": {
        "id": "H9HB2WKNQoyT",
        "colab_type": "code",
        "colab": {
          "base_uri": "https://localhost:8080/",
          "height": 185
        },
        "outputId": "a5b3064b-4419-4cdc-eb38-9f2aba9a38fc"
      },
      "source": [
        "# Q1 \n",
        "#Write a program to subtract two Complex numbers in Python\n",
        "\n",
        "# program to subtract two Complex numbers in Python\n",
        "print(\"Enter 2 number for Complex 1\")\n",
        "a= int(input (\"Enter the number 1:\"))\n",
        "b= int(input (\"Enter the number 2:\"))\n",
        "Complexno1=complex(a,b)\n",
        "print(\"Complex number 1\",Complexno1)\n",
        "\n",
        "\n",
        "print(\"Enter 2 number for Complex 2\")\n",
        "C= int(input (\"Enter the number 1:\"))\n",
        "D= int(input (\"Enter the number 2:\"))\n",
        "Complexno2= complex(C,D)\n",
        "print(\"Complex number 2\",Complexno2)\n",
        "\n",
        "\n",
        "\n",
        "Complexsum = Complexno1-Complexno2\n",
        "print(\"The Subtraction  of 2 complx number are\",Complexsum)\n",
        "\n",
        "\n"
      ],
      "execution_count": 11,
      "outputs": [
        {
          "output_type": "stream",
          "text": [
            "Enter 2 number for Complex 1\n",
            "Enter the number 1:500\n",
            "Enter the number 2:50\n",
            "Complex number 1 (500+50j)\n",
            "Enter 2 number for Complex 2\n",
            "Enter the number 1:250\n",
            "Enter the number 2:1\n",
            "Complex number 2 (250+1j)\n",
            "The Subtraction  of 2 complx number are (250+49j)\n"
          ],
          "name": "stdout"
        }
      ]
    },
    {
      "cell_type": "code",
      "metadata": {
        "id": "Zjq2mogTTCvM",
        "colab_type": "code",
        "colab": {
          "base_uri": "https://localhost:8080/",
          "height": 54
        },
        "outputId": "8b25d15a-4c13-4d22-9b97-8c3fd9fdad1d"
      },
      "source": [
        "  #Q2\n",
        "#Write a program to find the fourth root of a number\n",
        "\n",
        "#a program to find the fourth root of a number.\n",
        "\n",
        "a= int(input(\"Enter the number : \"))\n",
        "\n",
        "root= a**(1/4)\n",
        "print(\"The forth root of \",a, \"is\", root)\n"
      ],
      "execution_count": 12,
      "outputs": [
        {
          "output_type": "stream",
          "text": [
            "Enter the number : 625\n",
            "The forth root of  625 is 5.0\n"
          ],
          "name": "stdout"
        }
      ]
    },
    {
      "cell_type": "code",
      "metadata": {
        "id": "IJ6OqfA3QsM4",
        "colab_type": "code",
        "colab": {
          "base_uri": "https://localhost:8080/",
          "height": 110
        },
        "outputId": "0a98bf39-d0f7-4b38-f9b8-d88be08095a9"
      },
      "source": [
        "#Q3\n",
        "#Write a program to swap two numbers in Python with the help of a temporary variable.\n",
        "\n",
        "#program to swap two numbers in Python with the help of a temporary variable\n",
        "a= int(input (\"Enter the number 1:\"))\n",
        "b= int(input (\"Enter the number 2:\"))\n",
        "temp = a\n",
        "a= b\n",
        "b=temp\n",
        "print(\" The number after swap are\")\n",
        "print(\"number1\",a)\n",
        "print(\"number2\",b)\n"
      ],
      "execution_count": 13,
      "outputs": [
        {
          "output_type": "stream",
          "text": [
            "Enter the number 1:900\n",
            "Enter the number 2:255\n",
            " The number after swap are\n",
            "number1 255\n",
            "number2 900\n"
          ],
          "name": "stdout"
        }
      ]
    },
    {
      "cell_type": "code",
      "metadata": {
        "id": "KhkbapjeV_MQ",
        "colab_type": "code",
        "colab": {
          "base_uri": "https://localhost:8080/",
          "height": 110
        },
        "outputId": "9ee2a372-0167-4e9e-9219-22bd23956f1b"
      },
      "source": [
        "#Q4\n",
        "#Write a program to swap two numbers in Python without using a temporary variable\n",
        "\n",
        "a= int(input (\"Enter the number 1:\"))\n",
        "b= int(input (\"Enter the number 2:\"))\n",
        "a=a+b\n",
        "#print(\"a\",a)\n",
        "#print(\"b\",b)\n",
        "b=a-b\n",
        "#print(\"a\",a)\n",
        "#print(\"b\",b)\n",
        "a=a-b\n",
        "print(\" The number after swap are\")\n",
        "print(\"1 number\",a)\n",
        "print(\"2 number\",b)\n"
      ],
      "execution_count": 14,
      "outputs": [
        {
          "output_type": "stream",
          "text": [
            "Enter the number 1:985\n",
            "Enter the number 2:589\n",
            " The number after swap are\n",
            "1 number 589\n",
            "2 number 985\n"
          ],
          "name": "stdout"
        }
      ]
    },
    {
      "cell_type": "code",
      "metadata": {
        "id": "wBd_JyH0avDS",
        "colab_type": "code",
        "colab": {
          "base_uri": "https://localhost:8080/",
          "height": 353
        },
        "outputId": "dbca03ff-8ec4-4cd0-ebe1-6eff6e747b50"
      },
      "source": [
        "#Q5\n",
        "#Write a program to convert Fahrenheit to kelvin and celsius both.\n",
        "\n",
        "#a program to convert Fahrenheit to kelvin and celsius both.\n",
        "\n",
        "print(\"Please select option -\\n\")\n",
        "print(\"1. celsius  to fahrenheit \\n\" )\n",
        "print(\"2. fahrenheit to celsius \\n\" )\n",
        "print(\"3. celsius to kelvin\\n\" )\n",
        "print(\"4. fahrenheit to kelvin\\n\")\n",
        "print(\"5. kelvin to celsius\\n\")\n",
        "print(\"6. kelvin to fahrenheit\\n\") \n",
        "  \n",
        "  \n",
        "# Take input from the user  \n",
        "select = int(input(\"Select operations form 1, 2, 3, 4, 5, 6:\")) \n",
        "  \n",
        "if select == 1: \n",
        "    print(\" To convert celsius to fahrenheit \") \n",
        "    celsius = float(input(\"Enter temperature in celsius: \"))\n",
        "    fahrenheit = (celsius * 9/5) + 32\n",
        "    print(\"celsius is:\",celsius,\"fahrenheit is \",fahrenheit )\n",
        "\n",
        "elif select == 2: \n",
        "    print(\" To convert fahrenheit to celsius \") \n",
        "    fahrenheit = float(input(\"Enter temperature in fahrenheit: \"))\n",
        "    celsius = (fahrenheit - 32) * 5/9\n",
        "    print(\"fahrenheit is \",fahrenheit,\"celsius is:\",celsius,) \n",
        "\n",
        "elif select == 3: \n",
        "    print(\" To convert celsius to kelvin \") \n",
        "    celsius = float(input(\"Enter temperature in celsius: \"))\n",
        "    Kelvin = (celsius + 273.15)\n",
        "    print(\"celsius is:\",celsius,\"Kelvin is \",Kelvin )\n",
        "elif select == 4: \n",
        "    print(\" To convert fahrenheit to kelvin \") \n",
        "    fahrenheit = float(input(\"Enter temperature in fahrenheit: \"))\n",
        "    kelvin = (fahrenheit - 32) *5/9+273.15\n",
        "    print(\"fahrenheit is:\",fahrenheit,\"kelvin is \",kelvin ) \n",
        "elif select == 5: \n",
        "    print(\" To convert kelvin to celsius \") \n",
        "    kelvin = float(input(\"Enter temperature in celsius: \"))\n",
        "    celsius = (kelvin -273.15)\n",
        "    print(\"kelvin is:\",kelvin,\"celsius is \",celsius ) \n",
        "\n",
        "\n",
        "elif select == 6: \n",
        "    print(\" To convert kelvin to fahrenheit \") \n",
        "    celsius = float(input(\"Enter temperature in celsius: \"))\n",
        "    fahrenheit = (celsius -273.15)* 9/5+32\n",
        "    print(\"celsius is:\",celsius,\"fahrenheit is \",fahrenheit ) \n",
        "\n",
        "else: \n",
        "    print(\"Invalid input\") \n",
        "  "
      ],
      "execution_count": 27,
      "outputs": [
        {
          "output_type": "stream",
          "text": [
            "Please select option -\n",
            "\n",
            "1. celsius  to fahrenheit \n",
            "\n",
            "2. fahrenheit to celsius \n",
            "\n",
            "3. celsius to kelvin\n",
            "\n",
            "4. fahrenheit to kelvin\n",
            "\n",
            "5. kelvin to celsius\n",
            "\n",
            "6. kelvin to fahrenheit\n",
            "\n",
            "Select operations form 1, 2, 3, 4, 5, 6:6\n",
            " To convert kelvin to fahrenheit \n",
            "Enter temperature in celsius: 100\n",
            "celsius is: 100.0 fahrenheit is  -279.66999999999996\n"
          ],
          "name": "stdout"
        }
      ]
    },
    {
      "cell_type": "code",
      "metadata": {
        "id": "aX0RSv9Cn7pd",
        "colab_type": "code",
        "colab": {
          "base_uri": "https://localhost:8080/",
          "height": 260
        },
        "outputId": "35f924b8-c554-40b1-8b99-3bba92f79bfa"
      },
      "source": [
        "#Q6\n",
        "#Write a program to demonstrate all the available data types in Python. Hint: Use type() function.\n",
        "#int\n",
        "Ac=5852\n",
        "print(\"Ac=\",Ac )\n",
        "print(type(Ac))\n",
        "\n",
        "c= 45+64#add \n",
        "d= 48-25#sub\n",
        "e= 25*5#multi\n",
        "f=45/2#divide\n",
        "\n",
        "#float\n",
        "Ab= 5.256\n",
        "print(\"Ac=\",Ab)\n",
        "print(type(Ab))\n",
        "\n",
        "#complex\n",
        "a = 1+2j\n",
        "print(\"Ad\",Ad )\n",
        "\n",
        "#string\n",
        "o= \"hello world \"\n",
        "print(\"o+[4] = \", o[4])\n",
        "\n",
        "\n",
        "#list\n",
        "\n",
        "Ae= [1,2,23548,'hello world']\n",
        "print(\"Ae= \",Ae )\n",
        "print(type(Ae))\n",
        "print(\"Ae[2] = \", Ae[2]) # slicing\n",
        "\n",
        "#tuple\n",
        "g = (5,'program', 1+3j)\n",
        "print(\"g[0:3] = \", g[0:3])\n",
        "\n",
        "\n",
        "#set\n",
        "u = (['my', 'name', 'is ', 'parth', 'dhulla'])\n",
        "print(u)\n",
        "\n",
        "#Dictionary\n",
        "dd = {1:'value',2:'key'}\n",
        "print(type(dd))\n",
        "\n",
        "# Conversion \n",
        "#float to int\n",
        "int(45.7)\n",
        "\n",
        "#int to float\n",
        "float(67)"
      ],
      "execution_count": 69,
      "outputs": [
        {
          "output_type": "stream",
          "text": [
            "Ac= 5852\n",
            "<class 'int'>\n",
            "Ac= 5.256\n",
            "<class 'float'>\n",
            "Ad (589+6j)\n",
            "o+[4] =  o\n",
            "Ae=  [1, 2, 23548, 'hello world']\n",
            "<class 'list'>\n",
            "Ae[2] =  23548\n",
            "g[0:3] =  (5, 'program', (1+3j))\n",
            "['my', 'name', 'is ', 'parth', 'dhulla']\n",
            "<class 'dict'>\n"
          ],
          "name": "stdout"
        },
        {
          "output_type": "execute_result",
          "data": {
            "text/plain": [
              "67.0"
            ]
          },
          "metadata": {
            "tags": []
          },
          "execution_count": 69
        }
      ]
    },
    {
      "cell_type": "code",
      "metadata": {
        "id": "bMS2U4KEx2_P",
        "colab_type": "code",
        "colab": {}
      },
      "source": [
        "\n",
        "\n"
      ],
      "execution_count": null,
      "outputs": []
    }
  ]
}