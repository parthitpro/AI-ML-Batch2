{
  "nbformat": 4,
  "nbformat_minor": 0,
  "metadata": {
    "colab": {
      "name": "letsupgrade assiement1.ipynb",
      "provenance": [],
      "authorship_tag": "ABX9TyOwbecFr9xiwrbGdpTplVke",
      "include_colab_link": true
    },
    "kernelspec": {
      "name": "python3",
      "display_name": "Python 3"
    }
  },
  "cells": [
    {
      "cell_type": "markdown",
      "metadata": {
        "id": "view-in-github",
        "colab_type": "text"
      },
      "source": [
        "<a href=\"https://colab.research.google.com/github/parthitpro/AI-ML-Batch2/blob/master/letsupgrade_assiement1.ipynb\" target=\"_parent\"><img src=\"https://colab.research.google.com/assets/colab-badge.svg\" alt=\"Open In Colab\"/></a>"
      ]
    },
    {
      "cell_type": "code",
      "metadata": {
        "id": "p6ZLeRQq4HAk",
        "colab_type": "code",
        "colab": {
          "base_uri": "https://localhost:8080/",
          "height": 591
        },
        "outputId": "784d536f-6d98-4b7d-8dfe-69f80beff4a9"
      },
      "source": [
        "# Q1 \n",
        "#Write a program to subtract two Complex numbers in Python\n",
        "\n",
        "# program to subtract two Complex numbers in Python\n",
        "print(\"Enter 2 number for Complex 1\")\n",
        "a= int(input (\"Enter the number 1:\"))\n",
        "b= int(input (\"Enter the number 2:\"))\n",
        "Complexno1=complex(a,b)\n",
        "print(\"Complex number 1\",Complexno1)\n",
        "\n",
        "\n",
        "print(\"Enter 2 number for Complex 2\")\n",
        "C= int(input (\"Enter the number 1:\"))\n",
        "D= int(input (\"Enter the number 2:\"))\n",
        "Complexno2= complex(C,D)\n",
        "print(\"Complex number 2\",Complexno2)\n",
        "\n",
        "\n",
        "\n",
        "Complexsum = Complexno1-Complexno2\n",
        "print(\"The Subtraction  of 2 complx number are\",Complexsum)\n",
        "\n",
        "\n"
      ],
      "execution_count": 1,
      "outputs": [
        {
          "output_type": "stream",
          "text": [
            "Enter 2 number for Complex 1\n"
          ],
          "name": "stdout"
        },
        {
          "output_type": "error",
          "ename": "KeyboardInterrupt",
          "evalue": "ignored",
          "traceback": [
            "\u001b[0;31m---------------------------------------------------------------------------\u001b[0m",
            "\u001b[0;31mKeyboardInterrupt\u001b[0m                         Traceback (most recent call last)",
            "\u001b[0;32m/usr/local/lib/python3.6/dist-packages/ipykernel/kernelbase.py\u001b[0m in \u001b[0;36m_input_request\u001b[0;34m(self, prompt, ident, parent, password)\u001b[0m\n\u001b[1;32m    728\u001b[0m             \u001b[0;32mtry\u001b[0m\u001b[0;34m:\u001b[0m\u001b[0;34m\u001b[0m\u001b[0;34m\u001b[0m\u001b[0m\n\u001b[0;32m--> 729\u001b[0;31m                 \u001b[0mident\u001b[0m\u001b[0;34m,\u001b[0m \u001b[0mreply\u001b[0m \u001b[0;34m=\u001b[0m \u001b[0mself\u001b[0m\u001b[0;34m.\u001b[0m\u001b[0msession\u001b[0m\u001b[0;34m.\u001b[0m\u001b[0mrecv\u001b[0m\u001b[0;34m(\u001b[0m\u001b[0mself\u001b[0m\u001b[0;34m.\u001b[0m\u001b[0mstdin_socket\u001b[0m\u001b[0;34m,\u001b[0m \u001b[0;36m0\u001b[0m\u001b[0;34m)\u001b[0m\u001b[0;34m\u001b[0m\u001b[0;34m\u001b[0m\u001b[0m\n\u001b[0m\u001b[1;32m    730\u001b[0m             \u001b[0;32mexcept\u001b[0m \u001b[0mException\u001b[0m\u001b[0;34m:\u001b[0m\u001b[0;34m\u001b[0m\u001b[0;34m\u001b[0m\u001b[0m\n",
            "\u001b[0;32m/usr/local/lib/python3.6/dist-packages/jupyter_client/session.py\u001b[0m in \u001b[0;36mrecv\u001b[0;34m(self, socket, mode, content, copy)\u001b[0m\n\u001b[1;32m    802\u001b[0m         \u001b[0;32mtry\u001b[0m\u001b[0;34m:\u001b[0m\u001b[0;34m\u001b[0m\u001b[0;34m\u001b[0m\u001b[0m\n\u001b[0;32m--> 803\u001b[0;31m             \u001b[0mmsg_list\u001b[0m \u001b[0;34m=\u001b[0m \u001b[0msocket\u001b[0m\u001b[0;34m.\u001b[0m\u001b[0mrecv_multipart\u001b[0m\u001b[0;34m(\u001b[0m\u001b[0mmode\u001b[0m\u001b[0;34m,\u001b[0m \u001b[0mcopy\u001b[0m\u001b[0;34m=\u001b[0m\u001b[0mcopy\u001b[0m\u001b[0;34m)\u001b[0m\u001b[0;34m\u001b[0m\u001b[0;34m\u001b[0m\u001b[0m\n\u001b[0m\u001b[1;32m    804\u001b[0m         \u001b[0;32mexcept\u001b[0m \u001b[0mzmq\u001b[0m\u001b[0;34m.\u001b[0m\u001b[0mZMQError\u001b[0m \u001b[0;32mas\u001b[0m \u001b[0me\u001b[0m\u001b[0;34m:\u001b[0m\u001b[0;34m\u001b[0m\u001b[0;34m\u001b[0m\u001b[0m\n",
            "\u001b[0;32m/usr/local/lib/python3.6/dist-packages/zmq/sugar/socket.py\u001b[0m in \u001b[0;36mrecv_multipart\u001b[0;34m(self, flags, copy, track)\u001b[0m\n\u001b[1;32m    490\u001b[0m         \"\"\"\n\u001b[0;32m--> 491\u001b[0;31m         \u001b[0mparts\u001b[0m \u001b[0;34m=\u001b[0m \u001b[0;34m[\u001b[0m\u001b[0mself\u001b[0m\u001b[0;34m.\u001b[0m\u001b[0mrecv\u001b[0m\u001b[0;34m(\u001b[0m\u001b[0mflags\u001b[0m\u001b[0;34m,\u001b[0m \u001b[0mcopy\u001b[0m\u001b[0;34m=\u001b[0m\u001b[0mcopy\u001b[0m\u001b[0;34m,\u001b[0m \u001b[0mtrack\u001b[0m\u001b[0;34m=\u001b[0m\u001b[0mtrack\u001b[0m\u001b[0;34m)\u001b[0m\u001b[0;34m]\u001b[0m\u001b[0;34m\u001b[0m\u001b[0;34m\u001b[0m\u001b[0m\n\u001b[0m\u001b[1;32m    492\u001b[0m         \u001b[0;31m# have first part already, only loop while more to receive\u001b[0m\u001b[0;34m\u001b[0m\u001b[0;34m\u001b[0m\u001b[0;34m\u001b[0m\u001b[0m\n",
            "\u001b[0;32mzmq/backend/cython/socket.pyx\u001b[0m in \u001b[0;36mzmq.backend.cython.socket.Socket.recv\u001b[0;34m()\u001b[0m\n",
            "\u001b[0;32mzmq/backend/cython/socket.pyx\u001b[0m in \u001b[0;36mzmq.backend.cython.socket.Socket.recv\u001b[0;34m()\u001b[0m\n",
            "\u001b[0;32mzmq/backend/cython/socket.pyx\u001b[0m in \u001b[0;36mzmq.backend.cython.socket._recv_copy\u001b[0;34m()\u001b[0m\n",
            "\u001b[0;32m/usr/local/lib/python3.6/dist-packages/zmq/backend/cython/checkrc.pxd\u001b[0m in \u001b[0;36mzmq.backend.cython.checkrc._check_rc\u001b[0;34m()\u001b[0m\n",
            "\u001b[0;31mKeyboardInterrupt\u001b[0m: ",
            "\nDuring handling of the above exception, another exception occurred:\n",
            "\u001b[0;31mKeyboardInterrupt\u001b[0m                         Traceback (most recent call last)",
            "\u001b[0;32m<ipython-input-1-3b295989b96e>\u001b[0m in \u001b[0;36m<module>\u001b[0;34m()\u001b[0m\n\u001b[1;32m      4\u001b[0m \u001b[0;31m# program to subtract two Complex numbers in Python\u001b[0m\u001b[0;34m\u001b[0m\u001b[0;34m\u001b[0m\u001b[0;34m\u001b[0m\u001b[0m\n\u001b[1;32m      5\u001b[0m \u001b[0mprint\u001b[0m\u001b[0;34m(\u001b[0m\u001b[0;34m\"Enter 2 number for Complex 1\"\u001b[0m\u001b[0;34m)\u001b[0m\u001b[0;34m\u001b[0m\u001b[0;34m\u001b[0m\u001b[0m\n\u001b[0;32m----> 6\u001b[0;31m \u001b[0ma\u001b[0m\u001b[0;34m=\u001b[0m \u001b[0mint\u001b[0m\u001b[0;34m(\u001b[0m\u001b[0minput\u001b[0m \u001b[0;34m(\u001b[0m\u001b[0;34m\"Enter the number 1:\"\u001b[0m\u001b[0;34m)\u001b[0m\u001b[0;34m)\u001b[0m\u001b[0;34m\u001b[0m\u001b[0;34m\u001b[0m\u001b[0m\n\u001b[0m\u001b[1;32m      7\u001b[0m \u001b[0mb\u001b[0m\u001b[0;34m=\u001b[0m \u001b[0mint\u001b[0m\u001b[0;34m(\u001b[0m\u001b[0minput\u001b[0m \u001b[0;34m(\u001b[0m\u001b[0;34m\"Enter the number 2:\"\u001b[0m\u001b[0;34m)\u001b[0m\u001b[0;34m)\u001b[0m\u001b[0;34m\u001b[0m\u001b[0;34m\u001b[0m\u001b[0m\n\u001b[1;32m      8\u001b[0m \u001b[0mComplexno1\u001b[0m\u001b[0;34m=\u001b[0m\u001b[0mcomplex\u001b[0m\u001b[0;34m(\u001b[0m\u001b[0ma\u001b[0m\u001b[0;34m,\u001b[0m\u001b[0mb\u001b[0m\u001b[0;34m)\u001b[0m\u001b[0;34m\u001b[0m\u001b[0;34m\u001b[0m\u001b[0m\n",
            "\u001b[0;32m/usr/local/lib/python3.6/dist-packages/ipykernel/kernelbase.py\u001b[0m in \u001b[0;36mraw_input\u001b[0;34m(self, prompt)\u001b[0m\n\u001b[1;32m    702\u001b[0m             \u001b[0mself\u001b[0m\u001b[0;34m.\u001b[0m\u001b[0m_parent_ident\u001b[0m\u001b[0;34m,\u001b[0m\u001b[0;34m\u001b[0m\u001b[0;34m\u001b[0m\u001b[0m\n\u001b[1;32m    703\u001b[0m             \u001b[0mself\u001b[0m\u001b[0;34m.\u001b[0m\u001b[0m_parent_header\u001b[0m\u001b[0;34m,\u001b[0m\u001b[0;34m\u001b[0m\u001b[0;34m\u001b[0m\u001b[0m\n\u001b[0;32m--> 704\u001b[0;31m             \u001b[0mpassword\u001b[0m\u001b[0;34m=\u001b[0m\u001b[0;32mFalse\u001b[0m\u001b[0;34m,\u001b[0m\u001b[0;34m\u001b[0m\u001b[0;34m\u001b[0m\u001b[0m\n\u001b[0m\u001b[1;32m    705\u001b[0m         )\n\u001b[1;32m    706\u001b[0m \u001b[0;34m\u001b[0m\u001b[0m\n",
            "\u001b[0;32m/usr/local/lib/python3.6/dist-packages/ipykernel/kernelbase.py\u001b[0m in \u001b[0;36m_input_request\u001b[0;34m(self, prompt, ident, parent, password)\u001b[0m\n\u001b[1;32m    732\u001b[0m             \u001b[0;32mexcept\u001b[0m \u001b[0mKeyboardInterrupt\u001b[0m\u001b[0;34m:\u001b[0m\u001b[0;34m\u001b[0m\u001b[0;34m\u001b[0m\u001b[0m\n\u001b[1;32m    733\u001b[0m                 \u001b[0;31m# re-raise KeyboardInterrupt, to truncate traceback\u001b[0m\u001b[0;34m\u001b[0m\u001b[0;34m\u001b[0m\u001b[0;34m\u001b[0m\u001b[0m\n\u001b[0;32m--> 734\u001b[0;31m                 \u001b[0;32mraise\u001b[0m \u001b[0mKeyboardInterrupt\u001b[0m\u001b[0;34m\u001b[0m\u001b[0;34m\u001b[0m\u001b[0m\n\u001b[0m\u001b[1;32m    735\u001b[0m             \u001b[0;32melse\u001b[0m\u001b[0;34m:\u001b[0m\u001b[0;34m\u001b[0m\u001b[0;34m\u001b[0m\u001b[0m\n\u001b[1;32m    736\u001b[0m                 \u001b[0;32mbreak\u001b[0m\u001b[0;34m\u001b[0m\u001b[0;34m\u001b[0m\u001b[0m\n",
            "\u001b[0;31mKeyboardInterrupt\u001b[0m: "
          ]
        }
      ]
    },
    {
      "cell_type": "code",
      "metadata": {
        "id": "8jyZY6E64fTJ",
        "colab_type": "code",
        "colab": {}
      },
      "source": [
        "  #Q2\n",
        "#Write a program to find the fourth root of a number\n",
        "\n",
        "#a program to find the fourth root of a number.\n",
        "\n",
        "a= int(input(\"Enter the number : \"))\n",
        "\n",
        "root= a**(1/4)\n",
        "print(\"The forth root of \",a, \"is\", root)\n"
      ],
      "execution_count": null,
      "outputs": []
    },
    {
      "cell_type": "code",
      "metadata": {
        "id": "9hDp1bty4hT-",
        "colab_type": "code",
        "colab": {}
      },
      "source": [
        "#Q3\n",
        "#Write a program to swap two numbers in Python with the help of a temporary variable.\n",
        "\n",
        "#program to swap two numbers in Python with the help of a temporary variable\n",
        "a= int(input (\"Enter the number 1:\"))\n",
        "b= int(input (\"Enter the number 2:\"))\n",
        "temp = a\n",
        "a= b\n",
        "b=temp\n",
        "print(\" The number after swap are\")\n",
        "print(\"number1\",a)\n",
        "print(\"number2\",b)\n"
      ],
      "execution_count": null,
      "outputs": []
    },
    {
      "cell_type": "code",
      "metadata": {
        "id": "h4dk8KKF4jjE",
        "colab_type": "code",
        "colab": {}
      },
      "source": [
        "#Q4\n",
        "#Write a program to swap two numbers in Python without using a temporary variable\n",
        "\n",
        "a= int(input (\"Enter the number 1:\"))\n",
        "b= int(input (\"Enter the number 2:\"))\n",
        "a=a+b\n",
        "#print(\"a\",a)\n",
        "#print(\"b\",b)\n",
        "b=a-b\n",
        "#print(\"a\",a)\n",
        "#print(\"b\",b)\n",
        "a=a-b\n",
        "print(\" The number after swap are\")\n",
        "print(\"1 number\",a)\n",
        "print(\"2 number\",b)\n"
      ],
      "execution_count": null,
      "outputs": []
    },
    {
      "cell_type": "code",
      "metadata": {
        "id": "SqHeYNnK4l6T",
        "colab_type": "code",
        "colab": {}
      },
      "source": [
        "#Q5\n",
        "#Write a program to convert Fahrenheit to kelvin and celsius both.\n",
        "\n",
        "#a program to convert Fahrenheit to kelvin and celsius both.\n",
        "\n",
        "print(\"Please select option -\\n\")\n",
        "print(\"1. celsius  to fahrenheit \\n\" )\n",
        "print(\"2. fahrenheit to celsius \\n\" )\n",
        "print(\"3. celsius to kelvin\\n\" )\n",
        "print(\"4. fahrenheit to kelvin\\n\")\n",
        "print(\"5. kelvin to celsius\\n\")\n",
        "print(\"6. kelvin to fahrenheit\\n\") \n",
        "  \n",
        "  \n",
        "# Take input from the user  \n",
        "select = int(input(\"Select operations form 1, 2, 3, 4, 5, 6:\")) \n",
        "  \n",
        "if select == 1: \n",
        "    print(\" To convert celsius to fahrenheit \") \n",
        "    celsius = float(input(\"Enter temperature in celsius: \"))\n",
        "    fahrenheit = (celsius * 9/5) + 32\n",
        "    print(\"celsius is:\",celsius,\"fahrenheit is \",fahrenheit )\n",
        "\n",
        "elif select == 2: \n",
        "    print(\" To convert fahrenheit to celsius \") \n",
        "    fahrenheit = float(input(\"Enter temperature in fahrenheit: \"))\n",
        "    celsius = (fahrenheit - 32) * 5/9\n",
        "    print(\"fahrenheit is \",fahrenheit,\"celsius is:\",celsius,) \n",
        "\n",
        "elif select == 3: \n",
        "    print(\" To convert celsius to kelvin \") \n",
        "    celsius = float(input(\"Enter temperature in celsius: \"))\n",
        "    Kelvin = (celsius + 273.15)\n",
        "    print(\"celsius is:\",celsius,\"Kelvin is \",Kelvin )\n",
        "elif select == 4: \n",
        "    print(\" To convert fahrenheit to kelvin \") \n",
        "    fahrenheit = float(input(\"Enter temperature in fahrenheit: \"))\n",
        "    kelvin = (fahrenheit - 32) *5/9+273.15\n",
        "    print(\"fahrenheit is:\",fahrenheit,\"kelvin is \",kelvin ) \n",
        "elif select == 5: \n",
        "    print(\" To convert kelvin to celsius \") \n",
        "    kelvin = float(input(\"Enter temperature in celsius: \"))\n",
        "    celsius = (kelvin -273.15)\n",
        "    print(\"kelvin is:\",kelvin,\"celsius is \",celsius ) \n",
        "\n",
        "\n",
        "elif select == 6: \n",
        "    print(\" To convert kelvin to fahrenheit \") \n",
        "    celsius = float(input(\"Enter temperature in celsius: \"))\n",
        "    fahrenheit = (celsius -273.15)* 9/5+32\n",
        "    print(\"celsius is:\",celsius,\"fahrenheit is \",fahrenheit ) \n",
        "\n",
        "else: \n",
        "    print(\"Invalid input\") \n",
        "  "
      ],
      "execution_count": null,
      "outputs": []
    },
    {
      "cell_type": "code",
      "metadata": {
        "id": "AZEyC4_j4o1c",
        "colab_type": "code",
        "colab": {}
      },
      "source": [
        "#Q6\n",
        "#Write a program to demonstrate all the available data types in Python. Hint: Use type() function.\n",
        "#int\n",
        "Ac=5852\n",
        "print(\"Ac=\",Ac )\n",
        "print(type(Ac))\n",
        "\n",
        "c= 45+64#add \n",
        "d= 48-25#sub\n",
        "e= 25*5#multi\n",
        "f=45/2#divide\n",
        "\n",
        "#float\n",
        "Ab= 5.256\n",
        "print(\"Ac=\",Ab)\n",
        "print(type(Ab))\n",
        "\n",
        "#complex\n",
        "a = 1+2j\n",
        "print(\"Ad\",Ad )\n",
        "\n",
        "#string\n",
        "o= \"hello world \"\n",
        "print(\"o+[4] = \", o[4])\n",
        "\n",
        "\n",
        "#list\n",
        "\n",
        "Ae= [1,2,23548,'hello world']\n",
        "print(\"Ae= \",Ae )\n",
        "print(type(Ae))\n",
        "print(\"Ae[2] = \", Ae[2]) # slicing\n",
        "\n",
        "#tuple\n",
        "g = (5,'program', 1+3j)\n",
        "print(\"g[0:3] = \", g[0:3])\n",
        "\n",
        "\n",
        "#set\n",
        "u = (['my', 'name', 'is ', 'parth', 'dhulla'])\n",
        "print(u)\n",
        "\n",
        "#Dictionary\n",
        "dd = {1:'value',2:'key'}\n",
        "print(type(dd))\n",
        "\n",
        "# Conversion \n",
        "#float to int\n",
        "int(45.7)\n",
        "\n",
        "#int to float\n",
        "float(67)"
      ],
      "execution_count": null,
      "outputs": []
    }
  ]
}