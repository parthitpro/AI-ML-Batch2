{
  "nbformat": 4,
  "nbformat_minor": 0,
  "metadata": {
    "colab": {
      "name": "Assignment 7.1",
      "provenance": []
    },
    "kernelspec": {
      "name": "python3",
      "display_name": "Python 3"
    }
  },
  "cells": [
    {
      "cell_type": "markdown",
      "metadata": {
        "id": "qjZu3c4QpQBr",
        "colab_type": "text"
      },
      "source": [
        "\n",
        "\n",
        "Question 6: Write a Pandas program to create and display a DataFrame from a specified dictionary data which has the index labels.\n"
      ]
    },
    {
      "cell_type": "code",
      "metadata": {
        "id": "fGGH2hPXpO40",
        "colab_type": "code",
        "colab": {
          "base_uri": "https://localhost:8080/",
          "height": 221
        },
        "outputId": "b7d6b39e-b7c0-4d27-9524-eb797a6daa92"
      },
      "source": [
        "import pandas as pd\n",
        "import numpy as np\n",
        "\n",
        "data  = {'name': ['parth', 'Rohan', 'Jayu', 'viru', 'mango', 'orange', 'science', 'physic', 'kerla', 'uk'],\n",
        "        'score': [66, 49, 16.5, 45, 9, 20, 14.5, 78, 8, 19],}\n",
        "insex = ['a', 'b', 'c', 'd', 'e', 'f', 'g', 'h', 'i', 'j']\n",
        "\n",
        "df = pd.DataFrame(data , index=insex)\n",
        "print(df)\n",
        "\n"
      ],
      "execution_count": 13,
      "outputs": [
        {
          "output_type": "stream",
          "text": [
            "      name  score\n",
            "a    parth   66.0\n",
            "b    Rohan   49.0\n",
            "c     Jayu   16.5\n",
            "d     viru   45.0\n",
            "e    mango    9.0\n",
            "f   orange   20.0\n",
            "g  science   14.5\n",
            "h   physic   78.0\n",
            "i    kerla    8.0\n",
            "j       uk   19.0\n"
          ],
          "name": "stdout"
        }
      ]
    },
    {
      "cell_type": "markdown",
      "metadata": {
        "id": "O6rT2zllsjfY",
        "colab_type": "text"
      },
      "source": [
        "\n",
        "\n",
        "Question 7: Write a Pandas program to select the 'name' and 'score' columns from the following DataFrame.\n"
      ]
    },
    {
      "cell_type": "code",
      "metadata": {
        "id": "tnVFAcLqpv6H",
        "colab_type": "code",
        "colab": {
          "base_uri": "https://localhost:8080/",
          "height": 240
        },
        "outputId": "e792ceaa-52d3-4adf-b7a4-ce551ce3c366"
      },
      "source": [
        "import pandas as pd\n",
        "import numpy as np\n",
        "\n",
        "data  = {'name': ['parth', 'Rohan', 'Jayu', 'viru', 'mango', 'orange', 'science', 'physic', 'kerla', 'uk'],\n",
        "        'score': [66, 49, 16.5, 45, 9, 20, 14.5, 78, 8, 19],}\n",
        "insex = ['a', 'b', 'c', 'd', 'e', 'f', 'g', 'h', 'i', 'j']\n",
        "\n",
        "\n",
        "df = pd.DataFrame(data , index=insex)\n",
        "print(\"Select specific columns:\")\n",
        "print(df[['name', 'score']])"
      ],
      "execution_count": 12,
      "outputs": [
        {
          "output_type": "stream",
          "text": [
            "Select specific columns:\n",
            "      name  score\n",
            "a    parth   66.0\n",
            "b    Rohan   49.0\n",
            "c     Jayu   16.5\n",
            "d     viru   45.0\n",
            "e    mango    9.0\n",
            "f   orange   20.0\n",
            "g  science   14.5\n",
            "h   physic   78.0\n",
            "i    kerla    8.0\n",
            "j       uk   19.0\n"
          ],
          "name": "stdout"
        }
      ]
    },
    {
      "cell_type": "markdown",
      "metadata": {
        "id": "TS7SwDRhsfc_",
        "colab_type": "text"
      },
      "source": [
        "\n",
        "\n",
        "Question 8: Write a Pandas program to join the two given dataframes along rows and assign all data.\n"
      ]
    },
    {
      "cell_type": "code",
      "metadata": {
        "id": "bBaC1-FJqeQK",
        "colab_type": "code",
        "colab": {
          "base_uri": "https://localhost:8080/",
          "height": 500
        },
        "outputId": "39f576a7-f881-4829-f3a7-88499ae5c2ea"
      },
      "source": [
        "import pandas as pd\n",
        "\n",
        "data1 = pd.DataFrame({\n",
        "        'student_id': ['S1', 'S2', 'S3', 'S4', 'S5'],\n",
        "         'name': ['parth', 'Rohan', 'Jayu', 'viru', 'mango',], \n",
        "        'marks': [200, 210, 190, 222, 199]})\n",
        "\n",
        "data2 = pd.DataFrame({\n",
        "        'student_id': ['S4', 'S5', 'S6', 'S7', 'S8'],\n",
        "        'name': ['orange', 'science', 'physic', 'kerla', 'uk'], \n",
        "        'marks': [201, 200, 198, 219, 201]})\n",
        "\n",
        "print(\"Original DataFrames:\")\n",
        "print(data1)\n",
        "print(\"-------------------------------------\")\n",
        "print(data2)\n",
        "print(\"joining the 2 data set\")\n",
        "result_data = pd.concat([data1, data2])\n",
        "print(result_data)"
      ],
      "execution_count": 17,
      "outputs": [
        {
          "output_type": "stream",
          "text": [
            "Original DataFrames:\n",
            "  student_id   name  marks\n",
            "0         S1  parth    200\n",
            "1         S2  Rohan    210\n",
            "2         S3   Jayu    190\n",
            "3         S4   viru    222\n",
            "4         S5  mango    199\n",
            "-------------------------------------\n",
            "  student_id     name  marks\n",
            "0         S4   orange    201\n",
            "1         S5  science    200\n",
            "2         S6   physic    198\n",
            "3         S7    kerla    219\n",
            "4         S8       uk    201\n",
            "joining the 2 data set\n",
            "  student_id     name  marks\n",
            "0         S1    parth    200\n",
            "1         S2    Rohan    210\n",
            "2         S3     Jayu    190\n",
            "3         S4     viru    222\n",
            "4         S5    mango    199\n",
            "0         S4   orange    201\n",
            "1         S5  science    200\n",
            "2         S6   physic    198\n",
            "3         S7    kerla    219\n",
            "4         S8       uk    201\n"
          ],
          "name": "stdout"
        }
      ]
    },
    {
      "cell_type": "markdown",
      "metadata": {
        "id": "dpaGKIx2sbXF",
        "colab_type": "text"
      },
      "source": [
        "\n",
        "\n",
        "Question 9: Write a Pandas program to detect missing values of a given DataFrame. Display True or False.\n"
      ]
    },
    {
      "cell_type": "code",
      "metadata": {
        "id": "aMiOj3r7rW8-",
        "colab_type": "code",
        "colab": {
          "base_uri": "https://localhost:8080/",
          "height": 555
        },
        "outputId": "7333ec16-b281-4134-901c-3a2c57c29b6e"
      },
      "source": [
        "import pandas as pd\n",
        "import numpy as np\n",
        "pd.set_option('display.max_rows', None)\n",
        "#pd.set_option('display.max_columns', None)\n",
        "df = pd.DataFrame({\n",
        "'ord_no':[70001,np.nan,70002,70004,np.nan,70005,np.nan,70010,70003,70012,np.nan,70013],\n",
        "'purch_amt':[150.5,270.65,65.26,110.5,948.5,2400.6,5760,1983.43,2480.4,250.45, 75.29,3045.6],\n",
        "'ord_date': ['2012-10-05','2012-09-10',np.nan,'2012-08-17','2012-09-10','2012-07-27','2012-09-10','2012-10-10','2012-10-10','2012-06-27','2012-08-17','2012-04-25'],\n",
        "'customer_id':[3002,3001,3001,3003,3002,3001,3001,3004,3003,3002,3001,3001],\n",
        "'salesman_id':[5002,5003,5001,np.nan,5002,5001,5001,np.nan,5003,5002,5003,np.nan]})\n",
        "print(\"Original Orders DataFrame:\")\n",
        "print(df)\n",
        "print(\"\\nMissing values of the said dataframe:\")\n",
        "print(df.isna())"
      ],
      "execution_count": 18,
      "outputs": [
        {
          "output_type": "stream",
          "text": [
            "Original Orders DataFrame:\n",
            "     ord_no  purch_amt    ord_date  customer_id  salesman_id\n",
            "0   70001.0     150.50  2012-10-05         3002       5002.0\n",
            "1       NaN     270.65  2012-09-10         3001       5003.0\n",
            "2   70002.0      65.26         NaN         3001       5001.0\n",
            "3   70004.0     110.50  2012-08-17         3003          NaN\n",
            "4       NaN     948.50  2012-09-10         3002       5002.0\n",
            "5   70005.0    2400.60  2012-07-27         3001       5001.0\n",
            "6       NaN    5760.00  2012-09-10         3001       5001.0\n",
            "7   70010.0    1983.43  2012-10-10         3004          NaN\n",
            "8   70003.0    2480.40  2012-10-10         3003       5003.0\n",
            "9   70012.0     250.45  2012-06-27         3002       5002.0\n",
            "10      NaN      75.29  2012-08-17         3001       5003.0\n",
            "11  70013.0    3045.60  2012-04-25         3001          NaN\n",
            "\n",
            "Missing values of the said dataframe:\n",
            "    ord_no  purch_amt  ord_date  customer_id  salesman_id\n",
            "0    False      False     False        False        False\n",
            "1     True      False     False        False        False\n",
            "2    False      False      True        False        False\n",
            "3    False      False     False        False         True\n",
            "4     True      False     False        False        False\n",
            "5    False      False     False        False        False\n",
            "6     True      False     False        False        False\n",
            "7    False      False     False        False         True\n",
            "8    False      False     False        False        False\n",
            "9    False      False     False        False        False\n",
            "10    True      False     False        False        False\n",
            "11   False      False     False        False         True\n"
          ],
          "name": "stdout"
        }
      ]
    },
    {
      "cell_type": "markdown",
      "metadata": {
        "id": "_sbs4vHhsXpQ",
        "colab_type": "text"
      },
      "source": [
        "\n",
        "\n",
        "Question 10: Write a Pandas program to create and display a one-dimensional array-like object containing an array of data.\n"
      ]
    },
    {
      "cell_type": "code",
      "metadata": {
        "id": "jbQeg7RSr4DS",
        "colab_type": "code",
        "colab": {
          "base_uri": "https://localhost:8080/",
          "height": 128
        },
        "outputId": "9e569fbf-a138-4421-e849-a6ecfc0a9a47"
      },
      "source": [
        "data = [66,88,44,99.2,55.1,]  \n",
        "a = pd.Series(data) \n",
        "print(a)"
      ],
      "execution_count": 23,
      "outputs": [
        {
          "output_type": "stream",
          "text": [
            "0    66.0\n",
            "1    88.0\n",
            "2    44.0\n",
            "3    99.2\n",
            "4    55.1\n",
            "dtype: float64\n"
          ],
          "name": "stdout"
        }
      ]
    }
  ]
}