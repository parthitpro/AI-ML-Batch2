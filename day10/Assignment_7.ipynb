{
  "nbformat": 4,
  "nbformat_minor": 0,
  "metadata": {
    "colab": {
      "name": "Assignment 7.ipynb",
      "provenance": [],
      "collapsed_sections": []
    },
    "kernelspec": {
      "name": "python3",
      "display_name": "Python 3"
    }
  },
  "cells": [
    {
      "cell_type": "code",
      "metadata": {
        "id": "ZYK5mxcjLYG-",
        "colab_type": "code",
        "colab": {}
      },
      "source": [
        "import numpy as np\n"
      ],
      "execution_count": 1,
      "outputs": []
    },
    {
      "cell_type": "code",
      "metadata": {
        "id": "Ux385ZLRLgMR",
        "colab_type": "code",
        "colab": {
          "base_uri": "https://localhost:8080/",
          "height": 166
        },
        "outputId": "73a6b86b-1ebc-4f12-e818-16bf72ae90af"
      },
      "source": [
        "import numpy as np\n",
        "def lesser ():\n",
        "  if (n1.shape==n2.shape):\n",
        "    return n1<n2\n",
        "\n",
        "def lesser_equal ():\n",
        "  if (n1.shape==n2.shape):\n",
        "    return n1<=n2\n",
        "\n",
        "def greater():\n",
        "  if (n1.shape==n2.shape):\n",
        "    return n1>n2\n",
        "\n",
        "def greater_equal():\n",
        "  if (n1.shape==n2.shape):\n",
        "    return n1>=n2\n",
        "\n",
        "n1=np.array([[5,3,88],[4,6,81]])\n",
        "\n",
        "n2=np.array([[5,4,58],[20,6,58]])\n",
        "print(\"The number is lesser numbers\",lesser())\n",
        "print(\"The number is lesser_equal numbers\",lesser_equal())\n",
        "print(\"The number is greater numbers\",greater())\n",
        "print(\"The number is greater_equal numbers\",greater_equal())"
      ],
      "execution_count": 2,
      "outputs": [
        {
          "output_type": "stream",
          "text": [
            "The number is lesser numbers [[False  True False]\n",
            " [ True False False]]\n",
            "The number is lesser_equal numbers [[ True  True False]\n",
            " [ True  True False]]\n",
            "The number is greater numbers [[False False  True]\n",
            " [False False  True]]\n",
            "The number is greater_equal numbers [[ True False  True]\n",
            " [False  True  True]]\n"
          ],
          "name": "stdout"
        }
      ]
    },
    {
      "cell_type": "code",
      "metadata": {
        "id": "Fn5iDd54Lgy7",
        "colab_type": "code",
        "colab": {
          "base_uri": "https://localhost:8080/",
          "height": 110
        },
        "outputId": "780caf4d-f146-4756-f3e2-801ee574ab75"
      },
      "source": [
        "a=abc=np.zeros((2,5))\n",
        "b=abx=np.ones((2,5))\n",
        "c=abs=np.full((2,5),10)\n",
        "print(a)\n",
        "print(b)\n",
        "print()"
      ],
      "execution_count": 3,
      "outputs": [
        {
          "output_type": "stream",
          "text": [
            "[[0. 0. 0. 0. 0.]\n",
            " [0. 0. 0. 0. 0.]]\n",
            "[[1. 1. 1. 1. 1.]\n",
            " [1. 1. 1. 1. 1.]]\n",
            "\n"
          ],
          "name": "stdout"
        }
      ]
    },
    {
      "cell_type": "code",
      "metadata": {
        "id": "-XM9dByiLi14",
        "colab_type": "code",
        "colab": {
          "base_uri": "https://localhost:8080/",
          "height": 203
        },
        "outputId": "734e17d3-4cb5-4f54-983a-03342cfb6943"
      },
      "source": [
        "n4=np.array([[4,3,5],[2,6,7],[3,4,8]])\n",
        "print(\"Original array:\\n\",n4)\n",
        "print(\"Sum of all elements:\\n\",np.sum(n4))\n",
        "print(\"Sum of each column:\\n\",np.sum( n4, axis=0))\n",
        "print(\"Sum of each row:\\n\",np.sum(n4, axis=1))\n",
        "\n"
      ],
      "execution_count": 4,
      "outputs": [
        {
          "output_type": "stream",
          "text": [
            "Original array:\n",
            " [[4 3 5]\n",
            " [2 6 7]\n",
            " [3 4 8]]\n",
            "Sum of all elements:\n",
            " 42\n",
            "Sum of each column:\n",
            " [ 9 13 20]\n",
            "Sum of each row:\n",
            " [12 15 15]\n"
          ],
          "name": "stdout"
        }
      ]
    },
    {
      "cell_type": "code",
      "metadata": {
        "id": "Lc70Xnt2Lkjg",
        "colab_type": "code",
        "colab": {
          "base_uri": "https://localhost:8080/",
          "height": 203
        },
        "outputId": "af3846c9-882c-43bd-e0de-ea52ae8e6c1d"
      },
      "source": [
        "n4=np.array([[4,3,5],[2,6,7],[3,4,8]])\n",
        "print(\"Original array:\\n\",n4)\n",
        "print(\"Sum of all elements:\\n\",np.sum(n4))\n",
        "print(\"Sum of each column:\\n\",np.sum( n4, axis=0))\n",
        "print(\"Sum of each row:\\n\",np.sum(n4, axis=1))\n",
        "\n"
      ],
      "execution_count": 5,
      "outputs": [
        {
          "output_type": "stream",
          "text": [
            "Original array:\n",
            " [[4 3 5]\n",
            " [2 6 7]\n",
            " [3 4 8]]\n",
            "Sum of all elements:\n",
            " 42\n",
            "Sum of each column:\n",
            " [ 9 13 20]\n",
            "Sum of each row:\n",
            " [12 15 15]\n"
          ],
          "name": "stdout"
        }
      ]
    },
    {
      "cell_type": "code",
      "metadata": {
        "id": "svgCltFtLmeG",
        "colab_type": "code",
        "colab": {
          "base_uri": "https://localhost:8080/",
          "height": 128
        },
        "outputId": "ec89bf6f-988a-4215-b747-d7db742b9f2b"
      },
      "source": [
        "n8=np.array([[89,85,65],\n",
        "                [66,55,27]])\n",
        "print(\"Trigonometric Sine of n8 is:\",np.sin(n8))\n",
        "print(\"Trigonometric Cosine of n8 is:\",np.cos(n8))\n",
        "print(\"Trigonometric Tangent of n8 is:\",np.tan(n8))"
      ],
      "execution_count": 6,
      "outputs": [
        {
          "output_type": "stream",
          "text": [
            "Trigonometric Sine of n8 is: [[ 0.86006941 -0.17607562  0.82682868]\n",
            " [-0.02655115 -0.99975517  0.95637593]]\n",
            "Trigonometric Cosine of n8 is: [[ 0.51017704 -0.98437664 -0.56245385]\n",
            " [-0.99964746  0.02212676 -0.29213881]]\n",
            "Trigonometric Tangent of n8 is: [[ 1.68582537e+00  1.78870172e-01 -1.47003826e+00]\n",
            " [ 2.65605178e-02 -4.51830879e+01 -3.27370380e+00]]\n"
          ],
          "name": "stdout"
        }
      ]
    },
    {
      "cell_type": "code",
      "metadata": {
        "id": "j0Wh9uB9LovF",
        "colab_type": "code",
        "colab": {}
      },
      "source": [
        ""
      ],
      "execution_count": null,
      "outputs": []
    }
  ]
}