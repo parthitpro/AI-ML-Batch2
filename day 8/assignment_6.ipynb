{
  "nbformat": 4,
  "nbformat_minor": 0,
  "metadata": {
    "colab": {
      "name": "assignment 6.ipynb",
      "provenance": [],
      "collapsed_sections": []
    },
    "kernelspec": {
      "name": "python3",
      "display_name": "Python 3"
    }
  },
  "cells": [
    {
      "cell_type": "markdown",
      "metadata": {
        "id": "cAQRluBROGdf",
        "colab_type": "text"
      },
      "source": [
        "map\n",
        "\n",
        "\n",
        "map(function, iterables)\n",
        "\n",
        "\n",
        "The map function applies a given **function** to each item of an **iterable** (list, tuple etc.) and returns a **list** of the results."
      ]
    },
    {
      "cell_type": "code",
      "metadata": {
        "id": "fEgPUjawJ87k",
        "colab_type": "code",
        "colab": {
          "base_uri": "https://localhost:8080/",
          "height": 54
        },
        "outputId": "12d71e46-d4fa-4f3d-fa43-9296ed6f7969"
      },
      "source": [
        "#simple to complex\n",
        "def double(a):\n",
        "    return a+a\n",
        "x= map(double,[6])\n",
        "print(tuple(x))\n",
        "print(type(set(x)))"
      ],
      "execution_count": null,
      "outputs": [
        {
          "output_type": "stream",
          "text": [
            "(12,)\n",
            "<class 'set'>\n"
          ],
          "name": "stdout"
        }
      ]
    },
    {
      "cell_type": "code",
      "metadata": {
        "id": "UOOcq6P_PAGI",
        "colab_type": "code",
        "colab": {
          "base_uri": "https://localhost:8080/",
          "height": 73
        },
        "outputId": "8d41ac8a-e077-46e4-ff03-41ac57d98b85"
      },
      "source": [
        "def squ(a,b):\n",
        "  return a*b\n",
        "\n",
        "x= map(squ,[41,65,85],[49,55,36])\n",
        "print(list(x))\n",
        "print(list(map(squ,[45,45,55],[99,44,55])))\n",
        "print(list(map(squ,[xc for xc in range(0,3)],[91,54,62,22])))"
      ],
      "execution_count": null,
      "outputs": [
        {
          "output_type": "stream",
          "text": [
            "[2009, 3575, 3060]\n",
            "[4455, 1980, 3025]\n",
            "[0, 54, 124]\n"
          ],
          "name": "stdout"
        }
      ]
    },
    {
      "cell_type": "markdown",
      "metadata": {
        "id": "5QRKPr_oSYo4",
        "colab_type": "text"
      },
      "source": [
        "Lambda\n",
        "\n",
        "function without name or Anonymous\n",
        "\n",
        "generaly used ot i/o\n",
        "\n",
        "singleline output, one time use function \n",
        "\n",
        "lambda argument : expession"
      ]
    },
    {
      "cell_type": "code",
      "metadata": {
        "id": "We_JEbUEQTW-",
        "colab_type": "code",
        "colab": {
          "base_uri": "https://localhost:8080/",
          "height": 36
        },
        "outputId": "362d04cc-d453-41bd-fafb-f96a29cfcdf0"
      },
      "source": [
        "#simple to complex\n",
        "x= lambda a: a*a\n",
        "x(3)"
      ],
      "execution_count": null,
      "outputs": [
        {
          "output_type": "execute_result",
          "data": {
            "text/plain": [
              "9"
            ]
          },
          "metadata": {
            "tags": []
          },
          "execution_count": 24
        }
      ]
    },
    {
      "cell_type": "code",
      "metadata": {
        "id": "RE7Hmi9xUfbJ",
        "colab_type": "code",
        "colab": {
          "base_uri": "https://localhost:8080/",
          "height": 36
        },
        "outputId": "1ea556e1-79ce-4e85-9fc3-8053a41362fd"
      },
      "source": [
        "def xyz(x):\n",
        "  return lambda x: x+x\n",
        "\n",
        "print(x(6))"
      ],
      "execution_count": null,
      "outputs": [
        {
          "output_type": "stream",
          "text": [
            "36\n"
          ],
          "name": "stdout"
        }
      ]
    },
    {
      "cell_type": "code",
      "metadata": {
        "id": "nFVTwlxqUzgY",
        "colab_type": "code",
        "colab": {
          "base_uri": "https://localhost:8080/",
          "height": 36
        },
        "outputId": "a692cadd-128f-4bef-8ff5-d660fc6f11ab"
      },
      "source": [
        "z= lambda x,y:(x+y)+2*6*4/41\n",
        "print(z(8,99))"
      ],
      "execution_count": null,
      "outputs": [
        {
          "output_type": "stream",
          "text": [
            "108.17073170731707\n"
          ],
          "name": "stdout"
        }
      ]
    },
    {
      "cell_type": "code",
      "metadata": {
        "id": "nudvAjaxVLdP",
        "colab_type": "code",
        "colab": {
          "base_uri": "https://localhost:8080/",
          "height": 36
        },
        "outputId": "ccf7e3b5-816e-47bc-c33d-958ce812d26a"
      },
      "source": [
        "ax= [4,9,4,6,44,44,156,3,56,2,156]\n",
        "x= map(lambda a:a+8,ax)\n",
        "print(list(x))"
      ],
      "execution_count": null,
      "outputs": [
        {
          "output_type": "stream",
          "text": [
            "[12, 17, 12, 14, 52, 52, 164, 11, 64, 10, 164]\n"
          ],
          "name": "stdout"
        }
      ]
    },
    {
      "cell_type": "code",
      "metadata": {
        "id": "-oRdSyyPVojq",
        "colab_type": "code",
        "colab": {
          "base_uri": "https://localhost:8080/",
          "height": 36
        },
        "outputId": "ab44a260-4ca1-49eb-ae36-c5da95e1e279"
      },
      "source": [
        "xy=[4,9,8,7,7,]\n",
        "x=list(map(lambda c:c+8,xy))\n",
        "print(tuple(x))"
      ],
      "execution_count": null,
      "outputs": [
        {
          "output_type": "stream",
          "text": [
            "(12, 17, 16, 15, 15)\n"
          ],
          "name": "stdout"
        }
      ]
    },
    {
      "cell_type": "markdown",
      "metadata": {
        "id": "e3-wG5C2WwxW",
        "colab_type": "text"
      },
      "source": [
        "filter\n",
        "\n",
        "filter(function, iterables)\n"
      ]
    },
    {
      "cell_type": "code",
      "metadata": {
        "id": "wG8JCSN_WglG",
        "colab_type": "code",
        "colab": {
          "base_uri": "https://localhost:8080/",
          "height": 36
        },
        "outputId": "e2da7c29-6af2-45e6-ef1c-f287ead1576a"
      },
      "source": [
        "#simole to complex\n",
        "def acbs(a):\n",
        "  if a>=2:\n",
        "    return a\n",
        "\n",
        "x = filter(acbs,[1,2,3,4,5])\n",
        "print(list(x))"
      ],
      "execution_count": null,
      "outputs": [
        {
          "output_type": "stream",
          "text": [
            "[2, 3, 4, 5]\n"
          ],
          "name": "stdout"
        }
      ]
    },
    {
      "cell_type": "code",
      "metadata": {
        "id": "LH_1e-Zvw07C",
        "colab_type": "code",
        "colab": {
          "base_uri": "https://localhost:8080/",
          "height": 36
        },
        "outputId": "424ce3d3-8101-4d46-ea76-82006fb41d57"
      },
      "source": [
        "l= [5,9,10,5,8,5]\n",
        "x= filter(lambda x:x6,l)\n",
        "print(list(x))\n",
        "print(list(filter(lambda x:x>6,l)))"
      ],
      "execution_count": null,
      "outputs": [
        {
          "output_type": "stream",
          "text": [
            "[9, 10, 8]\n"
          ],
          "name": "stdout"
        }
      ]
    },
    {
      "cell_type": "markdown",
      "metadata": {
        "id": "elk8o4wr4z0X",
        "colab_type": "text"
      },
      "source": [
        "reduce\n",
        "\n",
        "reduce(function, iterables)"
      ]
    },
    {
      "cell_type": "code",
      "metadata": {
        "id": "lJKyWMXm0hDQ",
        "colab_type": "code",
        "colab": {
          "base_uri": "https://localhost:8080/",
          "height": 36
        },
        "outputId": "c4a99908-dda0-4f78-a440-8edca2e37991"
      },
      "source": [
        "from functools import reduce\n",
        "def nnh(a,v):\n",
        "  return a+v\n",
        "\n",
        "ax= reduce(nnh, [10,9,66,44])\n",
        "print(ax)"
      ],
      "execution_count": null,
      "outputs": [
        {
          "output_type": "stream",
          "text": [
            "129\n"
          ],
          "name": "stdout"
        }
      ]
    },
    {
      "cell_type": "code",
      "metadata": {
        "id": "9lEleVO85ZAB",
        "colab_type": "code",
        "colab": {
          "base_uri": "https://localhost:8080/",
          "height": 36
        },
        "outputId": "ce4917be-4277-4d90-ae2b-a716f99d5648"
      },
      "source": [
        "reduce(lambda d,c: d+c,[20,40])\n"
      ],
      "execution_count": null,
      "outputs": [
        {
          "output_type": "execute_result",
          "data": {
            "text/plain": [
              "60"
            ]
          },
          "metadata": {
            "tags": []
          },
          "execution_count": 38
        }
      ]
    },
    {
      "cell_type": "code",
      "metadata": {
        "id": "sBVkthcY6Nx4",
        "colab_type": "code",
        "colab": {
          "base_uri": "https://localhost:8080/",
          "height": 54
        },
        "outputId": "b633a41d-54b4-4169-ce7c-fae600959f0f"
      },
      "source": [
        "x= map(lambda a,: a+a, filter(lambda a: a>3, [4,6,1,2,3]) )\n",
        "print(x)\n",
        "print(list(x))"
      ],
      "execution_count": null,
      "outputs": [
        {
          "output_type": "stream",
          "text": [
            "<map object at 0x7f106f0e22e8>\n",
            "[8, 12]\n"
          ],
          "name": "stdout"
        }
      ]
    },
    {
      "cell_type": "code",
      "metadata": {
        "id": "wuk5LiOR-MFB",
        "colab_type": "code",
        "colab": {
          "base_uri": "https://localhost:8080/",
          "height": 36
        },
        "outputId": "db81eda5-45d1-4731-8aed-b4469a1c9bac"
      },
      "source": [
        "a= filter(lambda x:x>4  , map(lambda x:x+x, [6,7,2,5,4,2,1,2,2,23,]))\n",
        "print(list(a))"
      ],
      "execution_count": null,
      "outputs": [
        {
          "output_type": "stream",
          "text": [
            "[12, 14, 10, 8, 46]\n"
          ],
          "name": "stdout"
        }
      ]
    },
    {
      "cell_type": "code",
      "metadata": {
        "id": "mPfkXxw9_jBd",
        "colab_type": "code",
        "colab": {}
      },
      "source": [
        "x = reduce(lambda x,y: x+y,  map(lambda x:x+x, filter(lambda x: x>=3,(1,2,3,4))))\n"
      ],
      "execution_count": null,
      "outputs": []
    },
    {
      "cell_type": "code",
      "metadata": {
        "id": "3fANOvVNAIq3",
        "colab_type": "code",
        "colab": {
          "base_uri": "https://localhost:8080/",
          "height": 36
        },
        "outputId": "484557b4-f70e-4249-d7ad-5f7d11074195"
      },
      "source": [
        "x = reduce(lambda x,y: x+y,  map(lambda x:x+x, filter(lambda x: x>=3, (1,2,3,4))))\n",
        "print(x)"
      ],
      "execution_count": null,
      "outputs": [
        {
          "output_type": "stream",
          "text": [
            "14\n"
          ],
          "name": "stdout"
        }
      ]
    }
  ]
}