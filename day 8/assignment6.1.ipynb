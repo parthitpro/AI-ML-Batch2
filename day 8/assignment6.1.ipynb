{
  "nbformat": 4,
  "nbformat_minor": 0,
  "metadata": {
    "colab": {
      "name": "assignment7",
      "provenance": [],
      "collapsed_sections": []
    },
    "kernelspec": {
      "name": "python3",
      "display_name": "Python 3"
    }
  },
  "cells": [
    {
      "cell_type": "code",
      "metadata": {
        "id": "i3H8iq2sHfIg",
        "colab_type": "code",
        "colab": {}
      },
      "source": [
        "#Q1\n",
        "#Python program to copy text file content to other file.\n",
        "\n",
        "ax = fo = open(\"t2.txt\", \"r\")\n",
        "dx = fo = open(\"t53.txt\", \"w\")\n",
        "\n",
        "\n",
        "count=0\n",
        "\n",
        "for line in ax:\n",
        "    \n",
        "        count=count+1\n",
        "        dx.write(line)\n",
        "\n",
        "ax.close() \n",
        "dx.close() \n",
        "print(count, \" lines copied successfully\")       \n",
        "\n"
      ],
      "execution_count": null,
      "outputs": []
    },
    {
      "cell_type": "code",
      "metadata": {
        "id": "AcG83-tYnyx4",
        "colab_type": "code",
        "colab": {
          "base_uri": "https://localhost:8080/",
          "height": 54
        },
        "outputId": "f6da0b04-d33e-4206-8b9b-fb8baf3b4285"
      },
      "source": [
        "#Q2 \n",
        "# a Python program to find maximum and minimum values in the dictionary.\n",
        "dictz = {\"hello\": 158,\"world\": 5847,\"my\": 1964,\"name\": 2045,\"is\": 856,\"parth\": 2588} \n",
        "a = list(dictz.values())\n",
        "\n",
        "print(\"The number are \",a)\n",
        "\n",
        "a.sort()\n",
        "print(\"The maximnum number is\",a[0],\"and the smaller is\",a[-1])"
      ],
      "execution_count": null,
      "outputs": [
        {
          "output_type": "stream",
          "text": [
            "The number are  [158, 5847, 1964, 2045, 856, 2588]\n",
            "The maximnum number is 158 and the smaller is 5847\n"
          ],
          "name": "stdout"
        }
      ]
    },
    {
      "cell_type": "code",
      "metadata": {
        "id": "GM2cvLPm2JpH",
        "colab_type": "code",
        "colab": {}
      },
      "source": [
        ""
      ],
      "execution_count": null,
      "outputs": []
    }
  ]
}
