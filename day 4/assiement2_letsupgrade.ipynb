{
  "nbformat": 4,
  "nbformat_minor": 0,
  "metadata": {
    "colab": {
      "name": "assiement2_letsupgrade",
      "provenance": [],
      "collapsed_sections": [
        "H_7SbcrnkeoR",
        "GKxHrbXXonbT",
        "ylW6XWempanX",
        "NAREFGmTp5x8",
        "5oVDEj8XqTbm",
        "ORke94siqjU0",
        "ji5CRxndqp9L"
      ]
    },
    "kernelspec": {
      "name": "python3",
      "display_name": "Python 3"
    }
  },
  "cells": [
    {
      "cell_type": "markdown",
      "metadata": {
        "id": "H_7SbcrnkeoR",
        "colab_type": "text"
      },
      "source": [
        "#Q1 \n",
        "#complex number"
      ]
    },
    {
      "cell_type": "code",
      "metadata": {
        "id": "U2in9bbgNA-_",
        "colab_type": "code",
        "colab": {
          "base_uri": "https://localhost:8080/",
          "height": 526
        },
        "outputId": "024e083d-f139-4fe9-8d83-41c878f28be5"
      },
      "source": [
        "#Q1\n",
        "#Research on complex number\n",
        "\n",
        "print(\"for doing the calculation in complex number enter number one by one  \")\n",
        "print(\"Enter 1st number for Complex 1\")\n",
        "a= int(input (\"Enter the number 1:\"))\n",
        "b= int(input (\"Enter the number 2:\"))\n",
        "Complexno1=complex(a,b)\n",
        "print(\"Complex number 1\",Complexno1)\n",
        "\n",
        "\n",
        "print(\"Enter 2nd number for Complex 2\")\n",
        "C= int(input (\"Enter the number 1:\"))\n",
        "D= int(input (\"Enter the number 2:\"))\n",
        "Complexno2= complex(C,D)\n",
        "print(\"Complex number 2\",Complexno2)\n",
        "\n",
        "\n",
        "print(\"Please select option -\\n\")\n",
        "print(\"1. addition, \\n\" )\n",
        "print(\"2. subtraction, \\n\" )\n",
        "print(\"3. multiplication,\\n\" )\n",
        "print(\"4. division\\n\")\n",
        "print(\"5. floor division\\n\")\n",
        "print(\"6. modulo operations\\n\") \n",
        "\n",
        "# Take input from the user  \n",
        "select = int(input(\"Select operations form 1, 2, 3, 4, 5, 6: \")) \n",
        "  \n",
        "\n",
        "\n",
        "if select == 1: \n",
        "   Complexsum = Complexno1+Complexno2\n",
        "   print(\"so Addition of complex number is, \",Complexsum,\"\\n\")\n",
        "\n",
        "elif select == 2: \n",
        "    Complexsum = Complexno1-Complexno2\n",
        "    print(\"so substraction of complex number is \",Complexsum,\"\\n\")\n",
        "\n",
        "elif select == 3: \n",
        "    ABC = Complexno1*Complexno2\n",
        "    print(\"so Multiplication of complex number is \",ABC,\"\\n\")\n",
        "\n",
        "elif select == 4: \n",
        "    Complexsum = Complexno1/Complexno2\n",
        "    print(\"so Division of complex number is \",Complexsum,\"\\n\")\n",
        " \n",
        "elif select == 5:\n",
        "    print(\"\\n so floor division of complex number is not poosible\" )\n",
        "    print(\"Trying to use a complex number for floor division or modulo operations will raise a TypeError \\n\")\n",
        "\n",
        "elif select == 6: \n",
        "    print(\"\\n so  modulo operations of complex number is not poosible\" )\n",
        "    print(\"Trying to use a complex number for floor division or modulo operations will raise a TypeError \\n\") \n",
        "\n",
        "else: \n",
        "    print(\"Invalid input\") \n",
        "  "
      ],
      "execution_count": 3,
      "outputs": [
        {
          "output_type": "stream",
          "text": [
            "for doing the calculation in complex number enter number one by one  \n",
            "Enter 1st number for Complex 1\n",
            "Enter the number 1:25\n",
            "Enter the number 2:6\n",
            "Complex number 1 (25+6j)\n",
            "Enter 2nd number for Complex 2\n",
            "Enter the number 1:6\n",
            "Enter the number 2:3\n",
            "Complex number 2 (6+3j)\n",
            "Please select option -\n",
            "\n",
            "1. addition, \n",
            "\n",
            "2. subtraction, \n",
            "\n",
            "3. multiplication,\n",
            "\n",
            "4. division\n",
            "\n",
            "5. floor division\n",
            "\n",
            "6. modulo operations\n",
            "\n",
            "Select operations form 1, 2, 3, 4, 5, 6: 6\n",
            "\n",
            " so  modulo operations of complex number is not poosible\n",
            "Trying to use a complex number for floor division or modulo operations will raise a TypeError \n",
            "\n"
          ],
          "name": "stdout"
        }
      ]
    },
    {
      "cell_type": "markdown",
      "metadata": {
        "id": "GKxHrbXXonbT",
        "colab_type": "text"
      },
      "source": [
        "#Q2 Ans\n",
        "#Range simple# \n",
        "# New Section"
      ]
    },
    {
      "cell_type": "code",
      "metadata": {
        "id": "vO8iB_Lto2Rd",
        "colab_type": "code",
        "colab": {}
      },
      "source": [
        "for x in range(0,6):\n",
        "  print(x,end=\" \")"
      ],
      "execution_count": null,
      "outputs": []
    },
    {
      "cell_type": "markdown",
      "metadata": {
        "id": "ylW6XWempanX",
        "colab_type": "text"
      },
      "source": [
        "# 2.1\n",
        "#with 3 variant\n",
        "\n"
      ]
    },
    {
      "cell_type": "code",
      "metadata": {
        "id": "0XECPKWqphmP",
        "colab_type": "code",
        "colab": {}
      },
      "source": [
        "for y in range(1,99,7):\n",
        "  print(\"The value is\",y,)"
      ],
      "execution_count": 19,
      "outputs": []
    },
    {
      "cell_type": "markdown",
      "metadata": {
        "id": "NAREFGmTp5x8",
        "colab_type": "text"
      },
      "source": [
        "#2.2\n",
        "##addition "
      ]
    },
    {
      "cell_type": "code",
      "metadata": {
        "id": "X9Bv64YqqC_2",
        "colab_type": "code",
        "colab": {}
      },
      "source": [
        "for x in range(2,200,2):\n",
        "    print(x,end=\" \") \n",
        "print(x)"
      ],
      "execution_count": null,
      "outputs": []
    },
    {
      "cell_type": "code",
      "metadata": {
        "id": "IYqTWhwIqLTB",
        "colab_type": "code",
        "colab": {}
      },
      "source": [
        "sum=0\n",
        "for x in range(2,101):\n",
        "    sum=x+sum\n",
        "print(sum)"
      ],
      "execution_count": null,
      "outputs": []
    },
    {
      "cell_type": "markdown",
      "metadata": {
        "id": "iSd0LdusqMxy",
        "colab_type": "text"
      },
      "source": [
        "#2.3\n",
        "#**In** (sub) negative number"
      ]
    },
    {
      "cell_type": "code",
      "metadata": {
        "id": "P-zxLZotqP6Y",
        "colab_type": "code",
        "colab": {}
      },
      "source": [
        "summ=0\n",
        "for x in range(-15,0,2):\n",
        "    print(x ,end=\"\\n\")\n",
        "    summ=x+summ\n",
        "print(\"The total of sum is \",summ)"
      ],
      "execution_count": null,
      "outputs": []
    },
    {
      "cell_type": "markdown",
      "metadata": {
        "id": "5oVDEj8XqTbm",
        "colab_type": "text"
      },
      "source": [
        "#Q3 ans"
      ]
    },
    {
      "cell_type": "code",
      "metadata": {
        "id": "RUs7GT9BaBRi",
        "colab_type": "code",
        "colab": {
          "base_uri": "https://localhost:8080/",
          "height": 90
        },
        "outputId": "f863adad-90db-4fd3-8d2b-446ba30ac526"
      },
      "source": [
        "#Q3\n",
        "#Perform their subtraction and if the result of subtraction is greater than 25,\n",
        "# printtheir multiplication result else print their division result.\n",
        "a1= int(input(\"enter the number\"))\n",
        "a2= int(input(\"enter the number\"))\n",
        "c= a1-a2\n",
        "print(\"The subtraction is \",c)\n",
        "\n",
        "if c > 25:\n",
        "  d=a1*a2\n",
        "  print(\"The muliplication of number is\",d)\n",
        "else:\n",
        "  e=a2/a1\n",
        "  print(\"The division of number is\",e)\n"
      ],
      "execution_count": 21,
      "outputs": [
        {
          "output_type": "stream",
          "text": [
            "enter the number22\n",
            "enter the number22\n",
            "The subtraction is  0\n",
            "The division of number is 1.0\n"
          ],
          "name": "stdout"
        }
      ]
    },
    {
      "cell_type": "markdown",
      "metadata": {
        "id": "ORke94siqjU0",
        "colab_type": "text"
      },
      "source": [
        "#Q4 ans"
      ]
    },
    {
      "cell_type": "code",
      "metadata": {
        "id": "dp7Y0MTng6m9",
        "colab_type": "code",
        "colab": {
          "base_uri": "https://localhost:8080/",
          "height": 253
        },
        "outputId": "97153bf8-1aea-413c-a22e-a378604853ca"
      },
      "source": [
        "#Q4\n",
        "#a list of 10 elements of integer values. If the number in the list is divisible\n",
        "#by 2, print the result as\"square of that number minus 2\"\n",
        "list= [40,51,62,53,45,65,16,17,38,29]\n",
        "print(\"so list is\",list)\n",
        "for x in list:\n",
        "  \n",
        "  if x%2==0:\n",
        "    print(\"The number divide by 2 is =\",x)\n",
        "    print(\"The number as square of number  is =\",x*x)\n",
        "    print(\"The number as square of number with subtract form 2 is =\",x*x-2)\n",
        " "
      ],
      "execution_count": 22,
      "outputs": [
        {
          "output_type": "stream",
          "text": [
            "so list is [40, 51, 62, 53, 45, 65, 16, 17, 38, 29]\n",
            "The number divide by 2 is = 40\n",
            "The number as square of number  is = 1600\n",
            "The number as square of number with subtract form 2 is = 1598\n",
            "The number divide by 2 is = 62\n",
            "The number as square of number  is = 3844\n",
            "The number as square of number with subtract form 2 is = 3842\n",
            "The number divide by 2 is = 16\n",
            "The number as square of number  is = 256\n",
            "The number as square of number with subtract form 2 is = 254\n",
            "The number divide by 2 is = 38\n",
            "The number as square of number  is = 1444\n",
            "The number as square of number with subtract form 2 is = 1442\n"
          ],
          "name": "stdout"
        }
      ]
    },
    {
      "cell_type": "markdown",
      "metadata": {
        "id": "ji5CRxndqp9L",
        "colab_type": "text"
      },
      "source": [
        "#Q5"
      ]
    },
    {
      "cell_type": "code",
      "metadata": {
        "id": "kOPmZHXUj-W5",
        "colab_type": "code",
        "colab": {
          "base_uri": "https://localhost:8080/",
          "height": 162
        },
        "outputId": "59f36f16-9cf1-496e-d74f-1490df2e8804"
      },
      "source": [
        "#Q5\n",
        "#a list of 10 elements. Print all the elements in the list which are greater \n",
        "#than 7 when that numberis divided 2.\n",
        "list= [5,6,52,31,45,57,46,97,28,91]\n",
        "for n in list:\n",
        "  if n/2>7:\n",
        "    print(\"the number are\",n)"
      ],
      "execution_count": 23,
      "outputs": [
        {
          "output_type": "stream",
          "text": [
            "the number are 52\n",
            "the number are 31\n",
            "the number are 45\n",
            "the number are 57\n",
            "the number are 46\n",
            "the number are 97\n",
            "the number are 28\n",
            "the number are 91\n"
          ],
          "name": "stdout"
        }
      ]
    },
    {
      "cell_type": "code",
      "metadata": {
        "id": "Mkhu1nqTmrdk",
        "colab_type": "code",
        "colab": {}
      },
      "source": [
        ""
      ],
      "execution_count": 23,
      "outputs": []
    }
  ]
}