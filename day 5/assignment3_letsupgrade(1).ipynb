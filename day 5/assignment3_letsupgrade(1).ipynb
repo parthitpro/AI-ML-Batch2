{
  "nbformat": 4,
  "nbformat_minor": 0,
  "metadata": {
    "colab": {
      "name": "assignment3_letsupgrade",
      "provenance": [],
      "collapsed_sections": []
    },
    "kernelspec": {
      "name": "python3",
      "display_name": "Python 3"
    }
  },
  "cells": [
    {
      "cell_type": "markdown",
      "metadata": {
        "id": "RBUWEiVX-Zu-",
        "colab_type": "text"
      },
      "source": [
        "Q1"
      ]
    },
    {
      "cell_type": "code",
      "metadata": {
        "id": "ThHmMJI11mtN",
        "colab_type": "code",
        "colab": {
          "base_uri": "https://localhost:8080/",
          "height": 54
        },
        "outputId": "dacab8a3-1fce-4d38-c4ff-03ae5daaf95c"
      },
      "source": [
        "# find The first 20 non-even prime natural numbers\n",
        "print(\"The first 20 non-even prime natural numbers are:-\")\n",
        "for num in range(2, 75):\n",
        "  if(num > 2): \n",
        "     for i in range(2, num,):\n",
        "       if (num % i) == 0:\n",
        "         break\n",
        "     else:\n",
        "       print(num ,end=\" \")\n"
      ],
      "execution_count": null,
      "outputs": [
        {
          "output_type": "stream",
          "text": [
            "The first 20 non-even prime natural numbers are:-\n",
            "3 5 7 11 13 17 19 23 29 31 37 41 43 47 53 59 61 67 71 73 "
          ],
          "name": "stdout"
        }
      ]
    },
    {
      "cell_type": "markdown",
      "metadata": {
        "id": "J_NVjheM984Q",
        "colab_type": "text"
      },
      "source": [
        "Q2"
      ]
    },
    {
      "cell_type": "code",
      "metadata": {
        "id": "qnjnrI2S9Sz6",
        "colab_type": "code",
        "colab": {
          "base_uri": "https://localhost:8080/",
          "height": 1000
        },
        "outputId": "03d63360-4fa5-41e8-8ed3-c60bb513d361"
      },
      "source": [
        "# a Python program to implement 15 functions of string\n",
        "print(\"simple\") \n",
        "abc= \"Hello World\"\n",
        "print(abc)\n",
        "print(\"slicing\")\n",
        "print(abc[1:3])\n",
        "print(abc[0],abc[1:6],abc[6:11])\n",
        "print(abc[1:-3])# it take 5 occupied space\n",
        "print(abc[-11])\n",
        "print (abc[-3],abc[-2],abc[-1],abc[0],abc[1])\n",
        "print(\"joining\")\n",
        "xyz= \" thank you\"\n",
        "abc =abc + xyz\n",
        "print(abc)\n",
        "print(\"count\")\n",
        "r=\"e\"\n",
        "x=abc.count(r)\n",
        "print(x)\n",
        "nn=\"l\"\n",
        "count = abc.count(nn)\n",
        "print(count)\n",
        "nn=\"l\"\n",
        "count = abc.count(nn,3,10)\n",
        "print(count)\n",
        "print(\"capitalize\")\n",
        "abc.capitalize() #only first chara\n",
        "print(\"lower\")\n",
        "abc.lower()\n",
        "print(\"String to uppercase\")\n",
        "abc.upper()#all word\n",
        "print(\"Membership\")\n",
        "a= \"llo\"\n",
        "print (a in abc)\n",
        "a= \"abv\"\n",
        "print(a in abc)\n",
        "print(\"swapcase\")\n",
        "abc\n",
        "print(abc.swapcase())\n",
        "print(abc)\n",
        "print(\"tittle\")\n",
        "print(abc.title())\n",
        "print(\"comparison\")\n",
        "tit=\"abcdef\"\n",
        "print(tit.lower())\n",
        "print(tit.islower())\n",
        "print(tit.upper())\n",
        "print(tit.isupper())\n",
        "print(abc.istitle())\n",
        "print(\"Padding\")\n",
        "print(tit)\n",
        "print(tit.rjust(10,\"*\"))\n",
        "print(tit)\n",
        "print(tit.ljust(10,'*'))\n",
        "print(tit)\n",
        "print(tit.center(10,'*'))\n",
        "print(\"split\")\n",
        "print(abc.split())\n",
        "ss=\" \"\n",
        "print(ss.join(abc))\n",
        "print(abc.split())\n",
        "print(\"find\")\n",
        "print(abc)\n",
        "x = abc.find(\"thank\")\n",
        "print(x)\n",
        "print(\"zfill\")\n",
        "a = \"hello\"\n",
        "b = \"welcome to the jungle\"\n",
        "c = \"10.000\"\n",
        "\n",
        "print(a.zfill(10))\n",
        "print(b.zfill(10))\n",
        "print(c.zfill(10))\n",
        "print(\"strip\")\n",
        "txt = \"                  banana      \"\n",
        "\n",
        "x = txt.lstrip()\n",
        "\n",
        "print(\"of all fruits\", x, \"is my favorite\")\n",
        "txt = \"banana,,,,,ssqqqww.....\"\n",
        "\n",
        "x = txt.rstrip(\",.qsw\")\n",
        "\n",
        "print(x)\n",
        "abc.strip(\"e\")\n",
        "x= sorted(abc)\n",
        "print(x)\n",
        "\n"
      ],
      "execution_count": null,
      "outputs": [
        {
          "output_type": "stream",
          "text": [
            "simple\n",
            "Hello World\n",
            "slicing\n",
            "el\n",
            "H ello  World\n",
            "ello Wo\n",
            "H\n",
            "r l d H e\n",
            "joining\n",
            "Hello World thank you\n",
            "count\n",
            "1\n",
            "3\n",
            "2\n",
            "capitalize\n",
            "lower\n",
            "String to uppercase\n",
            "Membership\n",
            "True\n",
            "False\n",
            "swapcase\n",
            "hELLO wORLD THANK YOU\n",
            "Hello World thank you\n",
            "tittle\n",
            "Hello World Thank You\n",
            "comparison\n",
            "abcdef\n",
            "True\n",
            "ABCDEF\n",
            "False\n",
            "False\n",
            "Padding\n",
            "abcdef\n",
            "****abcdef\n",
            "abcdef\n",
            "abcdef****\n",
            "abcdef\n",
            "**abcdef**\n",
            "split\n",
            "['Hello', 'World', 'thank', 'you']\n",
            "H e l l o   W o r l d   t h a n k   y o u\n",
            "['Hello', 'World', 'thank', 'you']\n",
            "find\n",
            "Hello World thank you\n",
            "12\n",
            "zfill\n",
            "00000hello\n",
            "welcome to the jungle\n",
            "000010.000\n",
            "strip\n",
            "of all fruits banana       is my favorite\n",
            "banana\n",
            "[' ', ' ', ' ', 'H', 'W', 'a', 'd', 'e', 'h', 'k', 'l', 'l', 'l', 'n', 'o', 'o', 'o', 'r', 't', 'u', 'y']\n"
          ],
          "name": "stdout"
        }
      ]
    },
    {
      "cell_type": "markdown",
      "metadata": {
        "id": "avat7d2g_6ZL",
        "colab_type": "text"
      },
      "source": [
        "Q3"
      ]
    },
    {
      "cell_type": "code",
      "metadata": {
        "id": "_BoOpk4J-iNr",
        "colab_type": "code",
        "colab": {
          "base_uri": "https://localhost:8080/",
          "height": 148
        },
        "outputId": "6434c178-d4d8-42ee-f453-260966397a34"
      },
      "source": [
        "#a Python program to check if the given string is a Palindrome or Anagram\n",
        "print(\"Python program to check if the given string is a Palindrome or Anagram\")\n",
        "def Anagram(s1,s2):\n",
        "  n1=len(s1)\n",
        "  n2=len(s2) \n",
        "\n",
        "  if n1!=n2:\n",
        "    return 0\n",
        "\n",
        "  s1=sorted(s1)\n",
        "  s2=sorted(s2)\n",
        "\n",
        "  for i in range(0,n1):\n",
        "    if s1[i]!=s2[i]:\n",
        "      return 0\n",
        "\n",
        "  return 1\n",
        "s1 =input(\" enter the character  \")\n",
        "s2 =input(\" enter the character  \")\n",
        "\n",
        "if Anagram(s1,s2):\n",
        "  print(\"The character \",s1,\"and \",s2, \" are Anagram\")\n",
        "else:\n",
        "  print(\"The character \",s1,\"and \",s2, \" are not Anagram\")\n",
        "\n",
        "\n",
        "\n",
        "s1.casefold()\n",
        "rev_s1=reversed(s1)\n",
        "if list(rev_s1)==list(s1):\n",
        "  print(\"The character\",s1,\"is Palindrome\")\n",
        "else:\n",
        "  print(\"The character\",s1,\"is not Palindrome\")\n",
        "\n",
        "s2.casefold()\n",
        "rev_s2=reversed(s1)\n",
        "if list(rev_s2)==list(s1):\n",
        "  print(\"The character\",s1,\"is Palindrome\")\n",
        "else:\n",
        "  print(\"The character\",s1,\"is not Palindrome\")\n",
        "\n",
        "\n",
        "###\n",
        "s1.casefold()\n",
        "s2.casefold()\n",
        "\n",
        "\n",
        "if list(s1)==list(s2):\n",
        "  print(\"The character \",s1,\"and\",s2,\"are Palindrome\" )\n",
        "else:\n",
        "  print(\"The character\",s1,\"and\",s2,\"are not Palindrome\" )"
      ],
      "execution_count": 10,
      "outputs": [
        {
          "output_type": "stream",
          "text": [
            "Python program to check if the given string is a Palindrome or Anagram\n",
            " enter the character  kbmfdk#$\n",
            " enter the character  VIV##\n",
            "The character  kbmfdk#$ and  VIV##  are not Anagram\n",
            "The character kbmfdk#$ is not Palindrome\n",
            "The character kbmfdk#$ is not Palindrome\n",
            "The character kbmfdk#$ and VIV## are not Palindrome\n"
          ],
          "name": "stdout"
        }
      ]
    },
    {
      "cell_type": "markdown",
      "metadata": {
        "id": "Luox_jpD-RsF",
        "colab_type": "text"
      },
      "source": [
        "Q4"
      ]
    },
    {
      "cell_type": "code",
      "metadata": {
        "id": "kKD-cxRH-A73",
        "colab_type": "code",
        "colab": {
          "base_uri": "https://localhost:8080/",
          "height": 92
        },
        "outputId": "e6a4d1c3-654c-4cb1-83da-64729d1e638e"
      },
      "source": [
        "#a Python's user-defined function that removes all the additional characters from\n",
        "#the string and convert it finally to lower case using built-in lower() \n",
        "print(\"user-defined function that removes all the additional characters from the string and convert it finally to lower case using built-in lower()\")\n",
        "def my_function(replace):\n",
        "\n",
        "  print(replace)\n",
        "mno = input(\"Enter the character  \")\n",
        "#input char like  abc !?  !@@#$%^123\n",
        "\n",
        "replace = \"\"\n",
        "\n",
        "\n",
        "\n",
        "for character in mno:\n",
        "\n",
        "    if character.isalnum():\n",
        "\n",
        "        \n",
        "        replace =replace + character\n",
        "        replace=replace.lower()\n",
        "\n",
        "\n",
        "print(\"The character which remove all aditional character are\", )\n",
        "\n",
        "my_function(replace)\n"
      ],
      "execution_count": 14,
      "outputs": [
        {
          "output_type": "stream",
          "text": [
            "user-defined function that removes all the additional characters from the string and convert it finally to lower case using built-in lower()\n",
            "Enter th character  l;fb#$$klmkbmk\n",
            "The character which remove all aditional character are\n",
            "lfbklmkbmk\n"
          ],
          "name": "stdout"
        }
      ]
    },
    {
      "cell_type": "code",
      "metadata": {
        "id": "jGyGXoH_ax1f",
        "colab_type": "code",
        "colab": {}
      },
      "source": [
        ""
      ],
      "execution_count": null,
      "outputs": []
    }
  ]
}