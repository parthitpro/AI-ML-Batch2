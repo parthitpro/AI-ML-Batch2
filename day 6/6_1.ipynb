{
  "nbformat": 4,
  "nbformat_minor": 0,
  "metadata": {
    "colab": {
      "name": "6.1",
      "provenance": [],
      "collapsed_sections": []
    },
    "kernelspec": {
      "name": "python3",
      "display_name": "Python 3"
    }
  },
  "cells": [
    {
      "cell_type": "markdown",
      "metadata": {
        "id": "kLpDBOaAxiIj",
        "colab_type": "text"
      },
      "source": [
        "Q3"
      ]
    },
    {
      "cell_type": "markdown",
      "metadata": {
        "id": "TwwiCKOZSFlL",
        "colab_type": "text"
      },
      "source": [
        "#A simple set#"
      ]
    },
    {
      "cell_type": "code",
      "metadata": {
        "id": "E_33Zac0Rco3",
        "colab_type": "code",
        "colab": {
          "base_uri": "https://localhost:8080/",
          "height": 54
        },
        "outputId": "4536e792-88fe-448d-d67a-a15216324dc1"
      },
      "source": [
        "mno= {\"hello\",\"letsupgrade\",\"world\"}\n",
        "print(mno)\n",
        "print(type(mno))"
      ],
      "execution_count": null,
      "outputs": [
        {
          "output_type": "stream",
          "text": [
            "{'hello', 'letsupgrade', 'world'}\n",
            "<class 'set'>\n"
          ],
          "name": "stdout"
        }
      ]
    },
    {
      "cell_type": "markdown",
      "metadata": {
        "id": "5iHoLsxLSQUf",
        "colab_type": "text"
      },
      "source": [
        "#Add"
      ]
    },
    {
      "cell_type": "code",
      "metadata": {
        "id": "pqNGOhSNR77P",
        "colab_type": "code",
        "colab": {
          "base_uri": "https://localhost:8080/",
          "height": 36
        },
        "outputId": "b8738556-58a9-4a47-b02b-90018add6bf9"
      },
      "source": [
        "mno.add(\"Thank\")\n",
        "#to add multi\n",
        "print(mno)\n"
      ],
      "execution_count": null,
      "outputs": [
        {
          "output_type": "stream",
          "text": [
            "{'hello', 'letsupgrade', 'world', 'Thank'}\n"
          ],
          "name": "stdout"
        }
      ]
    },
    {
      "cell_type": "code",
      "metadata": {
        "id": "8qRSlNW7SuoW",
        "colab_type": "code",
        "colab": {
          "base_uri": "https://localhost:8080/",
          "height": 36
        },
        "outputId": "c401bb7f-7ee7-47f6-c8af-b89d3d4a1027"
      },
      "source": [
        "\n",
        "mno.update([\"my\", \"name\", \"is\", \"so\",\"much\",\"parth\"])\n",
        "\n",
        "print(mno) "
      ],
      "execution_count": null,
      "outputs": [
        {
          "output_type": "stream",
          "text": [
            "{'name', 'parth', 'is', 'world', 'Thank', 'hello', 'letsupgrade', 'much', 'so', 'my'}\n"
          ],
          "name": "stdout"
        }
      ]
    },
    {
      "cell_type": "markdown",
      "metadata": {
        "id": "Bkgzk23sU30T",
        "colab_type": "text"
      },
      "source": [
        "length"
      ]
    },
    {
      "cell_type": "code",
      "metadata": {
        "id": "2LzfDXN6UqrM",
        "colab_type": "code",
        "colab": {
          "base_uri": "https://localhost:8080/",
          "height": 36
        },
        "outputId": "58b5db46-a39c-4b9f-ce23-c73d57196e23"
      },
      "source": [
        "print(len(mno))"
      ],
      "execution_count": null,
      "outputs": [
        {
          "output_type": "stream",
          "text": [
            "10\n"
          ],
          "name": "stdout"
        }
      ]
    },
    {
      "cell_type": "markdown",
      "metadata": {
        "id": "Zn0XzuCoVDrs",
        "colab_type": "text"
      },
      "source": [
        "#loop for accss"
      ]
    },
    {
      "cell_type": "code",
      "metadata": {
        "id": "GFp5mj_fVFop",
        "colab_type": "code",
        "colab": {
          "base_uri": "https://localhost:8080/",
          "height": 36
        },
        "outputId": "da955d09-984e-411c-e217-722220a4e3c1"
      },
      "source": [
        "for x in mno:\n",
        "  print(x,end=\" \")"
      ],
      "execution_count": null,
      "outputs": [
        {
          "output_type": "stream",
          "text": [
            "name parth is world Thank hello letsupgrade much so my "
          ],
          "name": "stdout"
        }
      ]
    },
    {
      "cell_type": "markdown",
      "metadata": {
        "id": "7svXTsEJVtOe",
        "colab_type": "text"
      },
      "source": [
        "#membership for access"
      ]
    },
    {
      "cell_type": "code",
      "metadata": {
        "id": "3hFlnSphU7vj",
        "colab_type": "code",
        "colab": {
          "base_uri": "https://localhost:8080/",
          "height": 36
        },
        "outputId": "114b0f07-5916-4def-d69c-dc6fe641efdb"
      },
      "source": [
        "print(\"parth\" in mno)"
      ],
      "execution_count": null,
      "outputs": [
        {
          "output_type": "stream",
          "text": [
            "True\n"
          ],
          "name": "stdout"
        }
      ]
    },
    {
      "cell_type": "markdown",
      "metadata": {
        "id": "RbWEb0LDSEki",
        "colab_type": "text"
      },
      "source": [
        "#join set#"
      ]
    },
    {
      "cell_type": "code",
      "metadata": {
        "id": "JwGROmCFRqo-",
        "colab_type": "code",
        "colab": {
          "base_uri": "https://localhost:8080/",
          "height": 36
        },
        "outputId": "7e136018-01eb-4d91-bd75-24ba1fc7b1be"
      },
      "source": [
        "pqr = {\"new\",\"item\",\"created\"}\n",
        "\n",
        "xyz = mno.union(pqr)\n",
        "print(xyz)\n"
      ],
      "execution_count": null,
      "outputs": [
        {
          "output_type": "stream",
          "text": [
            "{'name', 'new', 'created', 'parth', 'is', 'world', 'item', 'Thank', 'hello', 'letsupgrade', 'much', 'so', 'my'}\n"
          ],
          "name": "stdout"
        }
      ]
    },
    {
      "cell_type": "markdown",
      "metadata": {
        "id": "w07heUmZUomI",
        "colab_type": "text"
      },
      "source": [
        "#constructer"
      ]
    },
    {
      "cell_type": "code",
      "metadata": {
        "id": "EudkxMvXUvWZ",
        "colab_type": "code",
        "colab": {
          "base_uri": "https://localhost:8080/",
          "height": 91
        },
        "outputId": "2fd6ba3f-7096-4cb1-c1da-652d8244a847"
      },
      "source": [
        "setcre=((\"combine\",\"of\",\"words\"))\n",
        "print(setcre)\n",
        "print(type(setcre))\n",
        "setcre=set((\"combine\",\"of\",\"words\"))\n",
        "print(setcre)\n",
        "print(type(setcre))"
      ],
      "execution_count": null,
      "outputs": [
        {
          "output_type": "stream",
          "text": [
            "('combine', 'of', 'words')\n",
            "<class 'tuple'>\n",
            "{'words', 'combine', 'of'}\n",
            "<class 'set'>\n"
          ],
          "name": "stdout"
        }
      ]
    },
    {
      "cell_type": "code",
      "metadata": {
        "id": "Ug1iQKztWIjg",
        "colab_type": "code",
        "colab": {
          "base_uri": "https://localhost:8080/",
          "height": 36
        },
        "outputId": "6f632b70-8de0-4826-8c5c-6181310a3efd"
      },
      "source": [
        "a= mno.copy()\n",
        "print(a)"
      ],
      "execution_count": null,
      "outputs": [
        {
          "output_type": "stream",
          "text": [
            "{'name', 'parth', 'is', 'world', 'Thank', 'hello', 'letsupgrade', 'much', 'so', 'my'}\n"
          ],
          "name": "stdout"
        }
      ]
    },
    {
      "cell_type": "markdown",
      "metadata": {
        "id": "To0ahoNAXOgT",
        "colab_type": "text"
      },
      "source": [
        "#difference\n"
      ]
    },
    {
      "cell_type": "code",
      "metadata": {
        "id": "QVMwJat0XMie",
        "colab_type": "code",
        "colab": {
          "base_uri": "https://localhost:8080/",
          "height": 36
        },
        "outputId": "cfa77999-60b1-49f7-9c6f-ed6a682a62b3"
      },
      "source": [
        "\n",
        "a={1,2,3,4,5,6,7,8,9,9,10}\n",
        "\n",
        "b={1,2,3,4,5,6,7,9}\n",
        "z = a.difference(b)\n",
        "print(sorted(z))\n"
      ],
      "execution_count": null,
      "outputs": [
        {
          "output_type": "stream",
          "text": [
            "[8, 10]\n"
          ],
          "name": "stdout"
        }
      ]
    },
    {
      "cell_type": "markdown",
      "metadata": {
        "id": "8aDAA7F2ZHY-",
        "colab_type": "text"
      },
      "source": [
        "#difference_update()#\n",
        "#####The difference_update() method removes the items that exist in both sets#####\n",
        "\n",
        "#####The difference_update() method is different from the difference() method\n",
        "#####because #####\n",
        "#####the difference() method returns a new **set**, without the unwanted items#####\n",
        "#####difference_update() method removes the unwanted items from the original set#####"
      ]
    },
    {
      "cell_type": "code",
      "metadata": {
        "id": "rXLHEvwuZKAG",
        "colab_type": "code",
        "colab": {
          "base_uri": "https://localhost:8080/",
          "height": 54
        },
        "outputId": "1fa2c355-c590-4be3-f45b-851be5b8f55b"
      },
      "source": [
        "b.difference_update(z)\n",
        "print(b)\n",
        "print(z)"
      ],
      "execution_count": null,
      "outputs": [
        {
          "output_type": "stream",
          "text": [
            "{1, 2, 3, 4, 5, 6, 7, 9}\n",
            "{8, 10}\n"
          ],
          "name": "stdout"
        }
      ]
    },
    {
      "cell_type": "markdown",
      "metadata": {
        "id": "LzDOXlbXbQ5k",
        "colab_type": "text"
      },
      "source": [
        "#intersection()#\n",
        "Return a set that contains the items that exist in both set x, and set y"
      ]
    },
    {
      "cell_type": "code",
      "metadata": {
        "id": "XzF2ATlOZKDq",
        "colab_type": "code",
        "colab": {
          "base_uri": "https://localhost:8080/",
          "height": 73
        },
        "outputId": "502fae44-50e0-4e94-8e4e-8584533cbaa3"
      },
      "source": [
        "b= {1, 2, 3, 4, 5, 7, 9}\n",
        "print(b)\n",
        "print(a)\n",
        "b.intersection(a)\n",
        "print(b)"
      ],
      "execution_count": null,
      "outputs": [
        {
          "output_type": "stream",
          "text": [
            "{1, 2, 3, 4, 5, 7, 9}\n",
            "{1, 2, 3, 4, 5, 6, 7, 8, 9, 10}\n",
            "{1, 2, 3, 4, 5, 7, 9}\n"
          ],
          "name": "stdout"
        }
      ]
    },
    {
      "cell_type": "markdown",
      "metadata": {
        "id": "g_zd8KOqp0Lw",
        "colab_type": "text"
      },
      "source": [
        "#isdisjoint()#\n",
        "it return when none of  both items are not present in sets"
      ]
    },
    {
      "cell_type": "code",
      "metadata": {
        "id": "HJFvh0JZZJ9R",
        "colab_type": "code",
        "colab": {
          "base_uri": "https://localhost:8080/",
          "height": 91
        },
        "outputId": "17275902-52fb-45f0-98b3-eb013c2b6b74"
      },
      "source": [
        "print(b)\n",
        "asi={88,99,66,77,44}\n",
        "print(asi)\n",
        "xs=b.isdisjoint(asi)\n",
        "print(xs)\n",
        "xsa=b.isdisjoint(a)\n",
        "print(xsa)"
      ],
      "execution_count": null,
      "outputs": [
        {
          "output_type": "stream",
          "text": [
            "{1, 2, 3, 4, 5, 7, 9}\n",
            "{66, 99, 44, 77, 88}\n",
            "True\n",
            "False\n"
          ],
          "name": "stdout"
        }
      ]
    },
    {
      "cell_type": "code",
      "metadata": {
        "id": "EnSvq828ZJ77",
        "colab_type": "code",
        "colab": {
          "base_uri": "https://localhost:8080/",
          "height": 36
        },
        "outputId": "d35afe97-fd71-4278-fa14-0d04cbf57d31"
      },
      "source": [
        "x = {\"a\", \"b\", \"c\"}\n",
        "y = {\"f\", \"e\", \"d\", \"c\", \"b\", \"a\"}\n",
        "\n",
        "z = x.issubset(y) \n",
        "\n",
        "print(z)\n"
      ],
      "execution_count": null,
      "outputs": [
        {
          "output_type": "stream",
          "text": [
            "True\n"
          ],
          "name": "stdout"
        }
      ]
    },
    {
      "cell_type": "code",
      "metadata": {
        "id": "H1xBNT30ZJ6T",
        "colab_type": "code",
        "colab": {
          "base_uri": "https://localhost:8080/",
          "height": 110
        },
        "outputId": "af0e8e58-99e8-41bb-dfe5-6e0ac6ea8c7e"
      },
      "source": [
        "print(a)\n",
        "print(xs)\n",
        "print(b)\n",
        "print(mno)\n",
        "print(z)"
      ],
      "execution_count": null,
      "outputs": [
        {
          "output_type": "stream",
          "text": [
            "{1, 2, 3, 4, 5, 6, 7, 8, 9, 10}\n",
            "True\n",
            "{1, 2, 3, 4, 5, 7, 9}\n",
            "{'name', 'parth', 'is', 'world', 'Thank', 'hello', 'letsupgrade', 'much', 'so', 'my'}\n",
            "True\n"
          ],
          "name": "stdout"
        }
      ]
    },
    {
      "cell_type": "markdown",
      "metadata": {
        "id": "I3S9FW0ZMLt0",
        "colab_type": "text"
      },
      "source": [
        "#issubset#\n",
        "returns True if all items in the set exists in the specified set"
      ]
    },
    {
      "cell_type": "code",
      "metadata": {
        "id": "xp-cH9rQZJ40",
        "colab_type": "code",
        "colab": {
          "base_uri": "https://localhost:8080/",
          "height": 36
        },
        "outputId": "6bbc96ac-f259-4219-ee39-b96abf582c0b"
      },
      "source": [
        "x = {\"h\", \"e\", \"l\"}\n",
        "y = {\"h\", \"e\", \"l\", \"l\", \"o\", \"w\"}\n",
        "\n",
        "z = x.issubset(y) \n",
        "\n",
        "print(z)\n"
      ],
      "execution_count": null,
      "outputs": [
        {
          "output_type": "stream",
          "text": [
            "True\n"
          ],
          "name": "stdout"
        }
      ]
    },
    {
      "cell_type": "markdown",
      "metadata": {
        "id": "FwFCn9NLM19D",
        "colab_type": "text"
      },
      "source": [
        "#issuperset#\n",
        "returns True if all items in the specified set exists in the original set"
      ]
    },
    {
      "cell_type": "code",
      "metadata": {
        "id": "bdm710QrZJ3R",
        "colab_type": "code",
        "colab": {
          "base_uri": "https://localhost:8080/",
          "height": 36
        },
        "outputId": "ade27209-d989-4e9b-8377-49da0e7696c5"
      },
      "source": [
        "y = {\"h\", \"e\", \"l\", \"l\", \"o\", \"w\"}\n",
        "y = {\"h\", \"e\", \"l\"}\n",
        "\n",
        "z = x.issuperset(y) \n",
        "\n",
        "print(z)\n"
      ],
      "execution_count": null,
      "outputs": [
        {
          "output_type": "stream",
          "text": [
            "True\n"
          ],
          "name": "stdout"
        }
      ]
    },
    {
      "cell_type": "markdown",
      "metadata": {
        "id": "prTbLYtdNUP6",
        "colab_type": "text"
      },
      "source": [
        "#symmetric_difference()#\n",
        "####The returned set contains a mix of items that are not present in both sets####\n"
      ]
    },
    {
      "cell_type": "code",
      "metadata": {
        "id": "6Di1LlHrZJ11",
        "colab_type": "code",
        "colab": {
          "base_uri": "https://localhost:8080/",
          "height": 36
        },
        "outputId": "4798691c-7bb3-4eae-876d-54bbf9a9ef24"
      },
      "source": [
        "aax= {2,5,9,8,7,5,5,3,3,3,}\n",
        "ssr= {2,4,6,2,5,6,3,4,5,55,4}\n",
        "abz=aax.symmetric_difference(ssr)\n",
        "print(abz)\n"
      ],
      "execution_count": null,
      "outputs": [
        {
          "output_type": "stream",
          "text": [
            "{4, 7, 6, 55, 8, 9}\n"
          ],
          "name": "stdout"
        }
      ]
    },
    {
      "cell_type": "markdown",
      "metadata": {
        "id": "N73JWrLBRPEM",
        "colab_type": "text"
      },
      "source": [
        "#symmetric_difference_update()#\n",
        "####Remove the items that are present in both sets, AND insert the items that is not present in both sets:####"
      ]
    },
    {
      "cell_type": "code",
      "metadata": {
        "id": "0TAfDwzSZJpy",
        "colab_type": "code",
        "colab": {
          "base_uri": "https://localhost:8080/",
          "height": 73
        },
        "outputId": "6e73fdb5-d5b4-4b43-c4fd-7495ac4c7cdb"
      },
      "source": [
        "\n",
        "print(aax)\n",
        "print(ssr)\n",
        "ssr.symmetric_difference_update(aax)\n",
        "print(ssr)"
      ],
      "execution_count": null,
      "outputs": [
        {
          "output_type": "stream",
          "text": [
            "{2, 3, 5, 7, 8, 9}\n",
            "{2, 3, 4, 5, 6, 55}\n",
            "{4, 6, 7, 8, 9, 55}\n"
          ],
          "name": "stdout"
        }
      ]
    },
    {
      "cell_type": "markdown",
      "metadata": {
        "id": "z9RuHWCbTd-d",
        "colab_type": "text"
      },
      "source": [
        "#union()# \n",
        "method returns a set that contains all items from the original set,\n",
        "If an item is present in more than one set, the result will contain only one of this item"
      ]
    },
    {
      "cell_type": "code",
      "metadata": {
        "id": "YRld0uNOZJzN",
        "colab_type": "code",
        "colab": {
          "base_uri": "https://localhost:8080/",
          "height": 36
        },
        "outputId": "ea9776a4-c5d4-4e3b-989a-0ac035d59bb3"
      },
      "source": [
        "x = {\"apple\", \"banana\", \"cherry\"}\n",
        "y = {\"google\", \"microsoft\", \"apple\"}\n",
        "\n",
        "zccx = aax.union(ssr) \n",
        "\n",
        "print(zccx)\n"
      ],
      "execution_count": null,
      "outputs": [
        {
          "output_type": "stream",
          "text": [
            "{2, 3, 4, 5, 6, 7, 8, 9, 55}\n"
          ],
          "name": "stdout"
        }
      ]
    },
    {
      "cell_type": "markdown",
      "metadata": {
        "id": "9VT8osetSXtS",
        "colab_type": "text"
      },
      "source": [
        "#Remove and delete "
      ]
    },
    {
      "cell_type": "code",
      "metadata": {
        "id": "hYkF8mdIUf8U",
        "colab_type": "code",
        "colab": {
          "base_uri": "https://localhost:8080/",
          "height": 73
        },
        "outputId": "5984f908-184f-433c-c595-105ea5432644"
      },
      "source": [
        "\n",
        "#if the item does not exit , then also we try to exeute it will show errore \n",
        "mno.discard(\"much\")\n",
        "print(mno)\n",
        "a=mno.pop()\n",
        "print(a)\n",
        "print(mno)"
      ],
      "execution_count": null,
      "outputs": [
        {
          "output_type": "stream",
          "text": [
            "{'name', 'parth', 'is', 'world', 'Thank', 'hello', 'letsupgrade', 'so', 'my'}\n",
            "name\n",
            "{'parth', 'is', 'world', 'Thank', 'hello', 'letsupgrade', 'so', 'my'}\n"
          ],
          "name": "stdout"
        }
      ]
    },
    {
      "cell_type": "code",
      "metadata": {
        "id": "VQYwUvIgU0X7",
        "colab_type": "code",
        "colab": {
          "base_uri": "https://localhost:8080/",
          "height": 36
        },
        "outputId": "c5850b72-847f-47db-a319-d546f0206cdd"
      },
      "source": [
        "mno.remove(\"world\")\n",
        "mno"
      ],
      "execution_count": null,
      "outputs": [
        {
          "output_type": "execute_result",
          "data": {
            "text/plain": [
              "{'Thank', 'hello', 'is', 'letsupgrade', 'my', 'parth', 'so'}"
            ]
          },
          "metadata": {
            "tags": []
          },
          "execution_count": 22
        }
      ]
    },
    {
      "cell_type": "code",
      "metadata": {
        "id": "zZaCMgmFREjm",
        "colab_type": "code",
        "colab": {
          "base_uri": "https://localhost:8080/",
          "height": 36
        },
        "outputId": "480fb9d0-eaeb-41c1-fa39-538160ac8930"
      },
      "source": [
        "mno"
      ],
      "execution_count": null,
      "outputs": [
        {
          "output_type": "execute_result",
          "data": {
            "text/plain": [
              "{'Thank', 'hello', 'is', 'letsupgrade', 'my', 'parth', 'so'}"
            ]
          },
          "metadata": {
            "tags": []
          },
          "execution_count": 23
        }
      ]
    },
    {
      "cell_type": "code",
      "metadata": {
        "id": "SxCVstCoRFX3",
        "colab_type": "code",
        "colab": {}
      },
      "source": [
        "del mno"
      ],
      "execution_count": null,
      "outputs": []
    },
    {
      "cell_type": "code",
      "metadata": {
        "id": "vJuiDrGwRJBj",
        "colab_type": "code",
        "colab": {
          "base_uri": "https://localhost:8080/",
          "height": 192
        },
        "outputId": "ea88653e-9a6a-4c0f-c54d-70432dd053b5"
      },
      "source": [
        "mno\n",
        "#it will show errror"
      ],
      "execution_count": null,
      "outputs": [
        {
          "output_type": "error",
          "ename": "NameError",
          "evalue": "ignored",
          "traceback": [
            "\u001b[0;31m---------------------------------------------------------------------------\u001b[0m",
            "\u001b[0;31mNameError\u001b[0m                                 Traceback (most recent call last)",
            "\u001b[0;32m<ipython-input-26-ab9f72bcf1f3>\u001b[0m in \u001b[0;36m<module>\u001b[0;34m()\u001b[0m\n\u001b[0;32m----> 1\u001b[0;31m \u001b[0mmno\u001b[0m\u001b[0;34m\u001b[0m\u001b[0;34m\u001b[0m\u001b[0m\n\u001b[0m\u001b[1;32m      2\u001b[0m \u001b[0;31m#it will show errror\u001b[0m\u001b[0;34m\u001b[0m\u001b[0;34m\u001b[0m\u001b[0;34m\u001b[0m\u001b[0m\n",
            "\u001b[0;31mNameError\u001b[0m: name 'mno' is not defined"
          ]
        }
      ]
    }
  ]
}