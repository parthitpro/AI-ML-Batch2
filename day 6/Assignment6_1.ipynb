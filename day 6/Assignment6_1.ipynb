{
  "nbformat": 4,
  "nbformat_minor": 0,
  "metadata": {
    "colab": {
      "name": "Assignment6.1",
      "provenance": [],
      "collapsed_sections": []
    },
    "kernelspec": {
      "name": "python3",
      "display_name": "Python 3"
    }
  },
  "cells": [
    {
      "cell_type": "code",
      "metadata": {
        "id": "hzUjiYpSGtlc",
        "colab_type": "code",
        "colab": {}
      },
      "source": [
        "#Q1 \n",
        "import re\n",
        "email_id = input(\"Enter email addresses: \")\n",
        " \n",
        "pat2 = \"(\\w+)@(\\w+).(\\w+)\"\n",
        " \n",
        "r2 = re.match(pat2,email_id)\n",
        " \n",
        "print (\"The user name is:   \",r2.group(1))\n",
        "print (\"The company name is:\",r2.group(2))\n",
        "print (\"The domain name is: \",r2.group(3))\n",
        "\n"
      ],
      "execution_count": null,
      "outputs": []
    },
    {
      "cell_type": "code",
      "metadata": {
        "id": "yvCO21rwNNAO",
        "colab_type": "code",
        "colab": {
          "base_uri": "https://localhost:8080/",
          "height": 91
        },
        "outputId": "ef21a9f4-f389-4c7e-bc0d-3e406e9db39f"
      },
      "source": [
        "#Q2 \n",
        "print(\"Enter the words by giving comma(,)\")\n",
        "x=[x for x in input().split(',')]\n",
        "print()\n",
        "print(\"The word after sorting are :-\",(\",\".join(sorted(x))))\n"
      ],
      "execution_count": null,
      "outputs": [
        {
          "output_type": "stream",
          "text": [
            "Enter the words by giving comma(,)\n",
            "2,2,6,7,9\n",
            "\n",
            "The word after sorting are :- 2,2,6,7,9\n"
          ],
          "name": "stdout"
        }
      ]
    },
    {
      "cell_type": "markdown",
      "metadata": {
        "id": "d7xi7Rk5F0ur",
        "colab_type": "text"
      },
      "source": [
        "Q3 is on another file no 6.2"
      ]
    },
    {
      "cell_type": "code",
      "metadata": {
        "id": "4VydNEHEBDm9",
        "colab_type": "code",
        "colab": {}
      },
      "source": [
        "#Q4\n",
        "x=[(int(x)) for x in input(\"Enter the number \").split()]\n",
        "print(\"output\")\n",
        "\n",
        "for xa in range(max(x)):\n",
        "  if xa >= 1: \n",
        "    if  xa not in x :\n",
        "      \n",
        "      print (xa)\n",
        "      abc=xa\n",
        "      print(\"explaniantion\")\n",
        "      print(\"In the above list of total  numbers \",abc,\" are missing and hence are \",abc,\" is the input\") "
      ],
      "execution_count": null,
      "outputs": []
    },
    {
      "cell_type": "code",
      "metadata": {
        "id": "tIxfED-MwSLz",
        "colab_type": "code",
        "colab": {
          "base_uri": "https://localhost:8080/",
          "height": 110
        },
        "outputId": "07d3f24c-a2f8-432b-89ef-3dc10d0c0069"
      },
      "source": [
        "#Q5\n",
        "print(\"Enter the number by giving space\")\n",
        "abxc= [int(x) for x in input(\"enter the number \").split()]\n",
        "list1= abxc\n",
        "newlist = abxc.copy()\n",
        "list2 = []\n",
        "for n in list1:\n",
        "\tif n not in list2:\n",
        "\t\tlist2.append(n)\n",
        "\n",
        "list2.sort()\n",
        "print (\"Original list\")\n",
        "r = ' '.join([str(a) for a in newlist])\n",
        "print (\"list1: \", r)\n",
        "\n",
        "\n",
        "\n",
        "\n",
        "r = ' '.join([str(a) for a in list2])\n",
        "print (\"List after removing duplicate elements and its sorted are \",r)\n",
        "\n"
      ],
      "execution_count": 30,
      "outputs": [
        {
          "output_type": "stream",
          "text": [
            "Enter the number by giving space\n",
            "enter the number 12 24 35 24 88 120 155 88 120 155 2 5 \n",
            "Original list\n",
            "list1:  12 24 35 24 88 120 155 88 120 155 2 5\n",
            "List after removing duplicate elements and its sorted are  2 5 12 24 35 88 120 155\n"
          ],
          "name": "stdout"
        }
      ]
    },
    {
      "cell_type": "code",
      "metadata": {
        "id": "cMvOuQuJB1mr",
        "colab_type": "code",
        "colab": {}
      },
      "source": [
        ""
      ],
      "execution_count": null,
      "outputs": []
    }
  ]
}