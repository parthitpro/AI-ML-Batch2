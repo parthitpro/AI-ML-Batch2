{
  "nbformat": 4,
  "nbformat_minor": 0,
  "metadata": {
    "colab": {
      "name": "Assignment 9.ipynb",
      "provenance": [],
      "collapsed_sections": []
    },
    "kernelspec": {
      "name": "python3",
      "display_name": "Python 3"
    }
  },
  "cells": [
    {
      "cell_type": "markdown",
      "metadata": {
        "id": "PsfrFd48x7q-"
      },
      "source": [
        "Three archers – Pat, Jack, and Alex are participating in an archery contest. They are shooting at\n",
        "targets with 10 evenly spaced concentric rings. The rings have score values from 1 through 10\n",
        "assigned to them, with 10 being the highest. Each participant shoots 6 arrow, scoring the\n",
        "following points:\n",
        "* Pat(P) – 5, 4, 4, 3, 9, 4\n",
        "* Jack(J) – 4, 8, 7, 5, 1, 5\n",
        "* Alex(A) – 9, 9, 8, 10, 4, 10\n",
        "\n",
        "\n",
        "\n",
        "Based on the above results we would like to know who the best archer is. In other words our null\n",
        "hypothesis is that the means of all populations are equal."
      ]
    },
    {
      "cell_type": "code",
      "metadata": {
        "id": "biVYV5Kox6kZ"
      },
      "source": [
        "#data\n",
        "P = [5, 4, 4, 3, 9, 4]\n",
        "J = [4, 8, 7, 5, 1, 5]\n",
        "A = [9, 9, 8, 10, 4,10]"
      ],
      "execution_count": 1,
      "outputs": []
    },
    {
      "cell_type": "code",
      "metadata": {
        "id": "8HIihTlnyJc_",
        "outputId": "d58eafb1-46a6-4ea7-a7dc-1303a1bac591",
        "colab": {
          "base_uri": "https://localhost:8080/",
          "height": 36
        }
      },
      "source": [
        "print(\"PAT\",P,\"JACK\",J,\"JACK\",\"Alex\",A)"
      ],
      "execution_count": 7,
      "outputs": [
        {
          "output_type": "stream",
          "text": [
            "PAT [5, 4, 4, 3, 9, 4] JACK [4, 8, 7, 5, 1, 5] JACK Alex [9, 9, 8, 10, 4, 10]\n"
          ],
          "name": "stdout"
        }
      ]
    },
    {
      "cell_type": "code",
      "metadata": {
        "id": "mri8Ax8XyYMk",
        "outputId": "417bb7e7-329a-465e-aee2-15d7d192af8e",
        "colab": {
          "base_uri": "https://localhost:8080/",
          "height": 54
        }
      },
      "source": [
        "from scipy import stats\n",
        "F,p, = stats.f_oneway(P,J,A)\n",
        "print(F)\n",
        "print(p)\n"
      ],
      "execution_count": 16,
      "outputs": [
        {
          "output_type": "stream",
          "text": [
            "4.4882729211087415\n",
            "0.029667763955533364\n"
          ],
          "name": "stdout"
        }
      ]
    },
    {
      "cell_type": "markdown",
      "metadata": {
        "id": "VlmxCzJVy7Dl"
      },
      "source": [
        "SO we can see the value of p is lesser than 0.05\n",
        "\n",
        "\n",
        ":- we reject the null Hypothesis All archers are same).\n",
        "\n",
        "\n",
        "SO we accept the  alternate Hypothesis bcoz All archers performing  differently"
      ]
    },
    {
      "cell_type": "code",
      "metadata": {
        "id": "URg7H6R0y1Hv",
        "outputId": "22ec508e-9b8a-4258-e38a-b3bcf50d25b3",
        "colab": {
          "base_uri": "https://localhost:8080/",
          "height": 54
        }
      },
      "source": [
        "F,p = stats.f_oneway(P,J)\n",
        "print(F)\n",
        "print(p)"
      ],
      "execution_count": 17,
      "outputs": [
        {
          "output_type": "stream",
          "text": [
            "0.01577287066246057\n",
            "0.9025454427958635\n"
          ],
          "name": "stdout"
        }
      ]
    },
    {
      "cell_type": "markdown",
      "metadata": {
        "id": "JL_AWynqzWL5"
      },
      "source": [
        "Here p is high \n",
        "\n",
        "so we accept the null hypothesis"
      ]
    },
    {
      "cell_type": "code",
      "metadata": {
        "id": "jw9dEBxHzS5Y",
        "outputId": "42874935-a542-430c-c4ef-49ca4c5d66d2",
        "colab": {
          "base_uri": "https://localhost:8080/",
          "height": 54
        }
      },
      "source": [
        "F,p = stats.f_oneway(J,A)\n",
        "print(F)\n",
        "print(p)\n"
      ],
      "execution_count": 10,
      "outputs": [
        {
          "output_type": "stream",
          "text": [
            "6.024096385542171\n",
            "0.034000591615399665\n"
          ],
          "name": "stdout"
        }
      ]
    },
    {
      "cell_type": "markdown",
      "metadata": {
        "id": "S1Px_ZUhzkHJ"
      },
      "source": [
        "Here p is less than 0.05,\n",
        "\n",
        "\n",
        "so we do not accept the null hypothesis(Both are equal) \n",
        "\n",
        "\n",
        "& accept alternate hypothesis(A is better)"
      ]
    },
    {
      "cell_type": "code",
      "metadata": {
        "id": "cr3WB6L2zgzf",
        "outputId": "11494b72-29da-4e64-b467-fc991d33efdf",
        "colab": {
          "base_uri": "https://localhost:8080/",
          "height": 54
        }
      },
      "source": [
        "F,p = stats.f_oneway(P,A)\n",
        "print(F)\n",
        "print(p)\n"
      ],
      "execution_count": 11,
      "outputs": [
        {
          "output_type": "stream",
          "text": [
            "7.629757785467127\n",
            "0.020053884079230942\n"
          ],
          "name": "stdout"
        }
      ]
    },
    {
      "cell_type": "markdown",
      "metadata": {
        "id": "f7typqCYz5zM"
      },
      "source": [
        "Here p is less than 0.05\n",
        "\n",
        "so we do not accept the null hypothesis(Both are equal) \n",
        "\n",
        "& accept alternate hypothesis(Alex is better)\n"
      ]
    },
    {
      "cell_type": "markdown",
      "metadata": {
        "id": "HOMVhj5f0Ohk"
      },
      "source": [
        "So from above applying we conclused that A(alex) is better than all"
      ]
    },
    {
      "cell_type": "code",
      "metadata": {
        "id": "AsSt4A7Wz1XW"
      },
      "source": [
        ""
      ],
      "execution_count": null,
      "outputs": []
    }
  ]
}